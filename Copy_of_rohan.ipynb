{
  "nbformat": 4,
  "nbformat_minor": 0,
  "metadata": {
    "colab": {
      "provenance": [],
      "authorship_tag": "ABX9TyOM9JcAIxyZqd+6QWPhPb5w",
      "include_colab_link": true
    },
    "kernelspec": {
      "name": "python3",
      "display_name": "Python 3"
    },
    "language_info": {
      "name": "python"
    }
  },
  "cells": [
    {
      "cell_type": "markdown",
      "metadata": {
        "id": "view-in-github",
        "colab_type": "text"
      },
      "source": [
        "<a href=\"https://colab.research.google.com/github/Rachana299/IDS/blob/main/Copy_of_rohan.ipynb\" target=\"_parent\"><img src=\"https://colab.research.google.com/assets/colab-badge.svg\" alt=\"Open In Colab\"/></a>"
      ]
    },
    {
      "cell_type": "code",
      "execution_count": 1,
      "metadata": {
        "id": "vpCMwqYKo95l",
        "colab": {
          "base_uri": "https://localhost:8080/"
        },
        "outputId": "5b63025c-8d89-4540-fa10-04c40af8b3d3"
      },
      "outputs": [
        {
          "output_type": "stream",
          "name": "stdout",
          "text": [
            "Requirement already satisfied: kaggle in /usr/local/lib/python3.12/dist-packages (1.7.4.5)\n",
            "Requirement already satisfied: bleach in /usr/local/lib/python3.12/dist-packages (from kaggle) (6.2.0)\n",
            "Requirement already satisfied: certifi>=14.05.14 in /usr/local/lib/python3.12/dist-packages (from kaggle) (2025.10.5)\n",
            "Requirement already satisfied: charset-normalizer in /usr/local/lib/python3.12/dist-packages (from kaggle) (3.4.3)\n",
            "Requirement already satisfied: idna in /usr/local/lib/python3.12/dist-packages (from kaggle) (3.10)\n",
            "Requirement already satisfied: protobuf in /usr/local/lib/python3.12/dist-packages (from kaggle) (5.29.5)\n",
            "Requirement already satisfied: python-dateutil>=2.5.3 in /usr/local/lib/python3.12/dist-packages (from kaggle) (2.9.0.post0)\n",
            "Requirement already satisfied: python-slugify in /usr/local/lib/python3.12/dist-packages (from kaggle) (8.0.4)\n",
            "Requirement already satisfied: requests in /usr/local/lib/python3.12/dist-packages (from kaggle) (2.32.4)\n",
            "Requirement already satisfied: setuptools>=21.0.0 in /usr/local/lib/python3.12/dist-packages (from kaggle) (75.2.0)\n",
            "Requirement already satisfied: six>=1.10 in /usr/local/lib/python3.12/dist-packages (from kaggle) (1.17.0)\n",
            "Requirement already satisfied: text-unidecode in /usr/local/lib/python3.12/dist-packages (from kaggle) (1.3)\n",
            "Requirement already satisfied: tqdm in /usr/local/lib/python3.12/dist-packages (from kaggle) (4.67.1)\n",
            "Requirement already satisfied: urllib3>=1.15.1 in /usr/local/lib/python3.12/dist-packages (from kaggle) (2.5.0)\n",
            "Requirement already satisfied: webencodings in /usr/local/lib/python3.12/dist-packages (from kaggle) (0.5.1)\n"
          ]
        }
      ],
      "source": [
        "!pip install kaggle\n"
      ]
    },
    {
      "cell_type": "code",
      "source": [
        "import kagglehub\n",
        "\n",
        "path = kagglehub.dataset_download(\"mohamedamineferrag/edgeiiotset-cyber-security-dataset-of-iot-iiot\")\n",
        "\n",
        "print(\"Path to dataset files:\", path)"
      ],
      "metadata": {
        "id": "u_lqT-sfFW_u",
        "colab": {
          "base_uri": "https://localhost:8080/"
        },
        "outputId": "b69f267b-d1ad-40a3-a3da-e3e5c254d930"
      },
      "execution_count": 2,
      "outputs": [
        {
          "output_type": "stream",
          "name": "stdout",
          "text": [
            "Using Colab cache for faster access to the 'edgeiiotset-cyber-security-dataset-of-iot-iiot' dataset.\n",
            "Path to dataset files: /kaggle/input/edgeiiotset-cyber-security-dataset-of-iot-iiot\n"
          ]
        }
      ]
    },
    {
      "cell_type": "code",
      "source": [
        "import os\n",
        "\n",
        "dataset_path = \"/kaggle/input/edgeiiotset-cyber-security-dataset-of-iot-iiot\"\n",
        "\n",
        "print(\"Files inside subfolder:\", os.listdir(dataset_path))"
      ],
      "metadata": {
        "id": "_wzlsYrGGqPe",
        "colab": {
          "base_uri": "https://localhost:8080/"
        },
        "outputId": "49470bc1-dd7f-4423-8e31-002230d51b23"
      },
      "execution_count": 3,
      "outputs": [
        {
          "output_type": "stream",
          "name": "stdout",
          "text": [
            "Files inside subfolder: ['Edge_IIoTset__DatasetFL.pdf', 'Readme.txt', 'Edge-IIoTset dataset']\n"
          ]
        }
      ]
    },
    {
      "cell_type": "code",
      "source": [
        "ml_path = dataset_path + \"/Edge-IIoTset dataset/Selected dataset for ML and DL\"\n",
        "print(\"Files inside ML folder:\", os.listdir(ml_path))"
      ],
      "metadata": {
        "id": "7fXjIUizGroC",
        "colab": {
          "base_uri": "https://localhost:8080/"
        },
        "outputId": "5fcd0ce3-2b41-430d-b137-9a878f6a40d9"
      },
      "execution_count": 4,
      "outputs": [
        {
          "output_type": "stream",
          "name": "stdout",
          "text": [
            "Files inside ML folder: ['DNN-EdgeIIoT-dataset.csv', 'ML-EdgeIIoT-dataset.csv']\n"
          ]
        }
      ]
    },
    {
      "cell_type": "code",
      "source": [
        "import pandas as pd\n",
        "import os\n",
        "\n",
        "ml_path = dataset_path + \"/Edge-IIoTset dataset/Selected dataset for ML and DL\"\n",
        "csv_file = \"ML-EdgeIIoT-dataset.csv\"\n",
        "\n",
        "df = pd.read_csv(os.path.join(ml_path, csv_file))\n",
        "\n",
        "\n",
        "print(\"Dataset shape:\", df.shape)\n",
        "display(df.head())\n",
        "df.info()"
      ],
      "metadata": {
        "id": "qyIPxID_LTex",
        "colab": {
          "base_uri": "https://localhost:8080/",
          "height": 1000
        },
        "outputId": "b29dcec2-d8eb-4409-8455-4e0f9520c50d"
      },
      "execution_count": 5,
      "outputs": [
        {
          "output_type": "stream",
          "name": "stderr",
          "text": [
            "/tmp/ipython-input-1723028481.py:7: DtypeWarning: Columns (3,6,11,13,14,15,16,17,31,32,34,39,45,51,54,55) have mixed types. Specify dtype option on import or set low_memory=False.\n",
            "  df = pd.read_csv(os.path.join(ml_path, csv_file))\n"
          ]
        },
        {
          "output_type": "stream",
          "name": "stdout",
          "text": [
            "Dataset shape: (157800, 63)\n"
          ]
        },
        {
          "output_type": "display_data",
          "data": {
            "text/plain": [
              "  frame.time    ip.src_host ip.dst_host arp.dst.proto_ipv4  arp.opcode  \\\n",
              "0        6.0  192.168.0.152         0.0                0.0         0.0   \n",
              "1        6.0  192.168.0.101         0.0                0.0         0.0   \n",
              "2        6.0  192.168.0.152         0.0                0.0         0.0   \n",
              "3        6.0  192.168.0.101         0.0                0.0         0.0   \n",
              "4        6.0  192.168.0.152         0.0                0.0         0.0   \n",
              "\n",
              "   arp.hw.size arp.src.proto_ipv4  icmp.checksum  icmp.seq_le  \\\n",
              "0          0.0                0.0            0.0          0.0   \n",
              "1          0.0                0.0            0.0          0.0   \n",
              "2          0.0                0.0            0.0          0.0   \n",
              "3          0.0                0.0            0.0          0.0   \n",
              "4          0.0                0.0            0.0          0.0   \n",
              "\n",
              "   icmp.transmit_timestamp  ...  mqtt.proto_len mqtt.protoname  mqtt.topic  \\\n",
              "0                      0.0  ...             0.0            0.0         0.0   \n",
              "1                      0.0  ...             0.0            0.0         0.0   \n",
              "2                      0.0  ...             0.0            0.0         0.0   \n",
              "3                      0.0  ...             0.0            0.0         0.0   \n",
              "4                      0.0  ...             0.0            0.0         0.0   \n",
              "\n",
              "  mqtt.topic_len mqtt.ver mbtcp.len mbtcp.trans_id mbtcp.unit_id  \\\n",
              "0            0.0      0.0       0.0            0.0           0.0   \n",
              "1            0.0      0.0       0.0            0.0           0.0   \n",
              "2            0.0      0.0       0.0            0.0           0.0   \n",
              "3            0.0      0.0       0.0            0.0           0.0   \n",
              "4            0.0      0.0       0.0            0.0           0.0   \n",
              "\n",
              "   Attack_label  Attack_type  \n",
              "0             1         MITM  \n",
              "1             1         MITM  \n",
              "2             1         MITM  \n",
              "3             1         MITM  \n",
              "4             1         MITM  \n",
              "\n",
              "[5 rows x 63 columns]"
            ],
            "text/html": [
              "\n",
              "  <div id=\"df-5f086438-57fe-4a49-a213-6c5f89f48483\" class=\"colab-df-container\">\n",
              "    <div>\n",
              "<style scoped>\n",
              "    .dataframe tbody tr th:only-of-type {\n",
              "        vertical-align: middle;\n",
              "    }\n",
              "\n",
              "    .dataframe tbody tr th {\n",
              "        vertical-align: top;\n",
              "    }\n",
              "\n",
              "    .dataframe thead th {\n",
              "        text-align: right;\n",
              "    }\n",
              "</style>\n",
              "<table border=\"1\" class=\"dataframe\">\n",
              "  <thead>\n",
              "    <tr style=\"text-align: right;\">\n",
              "      <th></th>\n",
              "      <th>frame.time</th>\n",
              "      <th>ip.src_host</th>\n",
              "      <th>ip.dst_host</th>\n",
              "      <th>arp.dst.proto_ipv4</th>\n",
              "      <th>arp.opcode</th>\n",
              "      <th>arp.hw.size</th>\n",
              "      <th>arp.src.proto_ipv4</th>\n",
              "      <th>icmp.checksum</th>\n",
              "      <th>icmp.seq_le</th>\n",
              "      <th>icmp.transmit_timestamp</th>\n",
              "      <th>...</th>\n",
              "      <th>mqtt.proto_len</th>\n",
              "      <th>mqtt.protoname</th>\n",
              "      <th>mqtt.topic</th>\n",
              "      <th>mqtt.topic_len</th>\n",
              "      <th>mqtt.ver</th>\n",
              "      <th>mbtcp.len</th>\n",
              "      <th>mbtcp.trans_id</th>\n",
              "      <th>mbtcp.unit_id</th>\n",
              "      <th>Attack_label</th>\n",
              "      <th>Attack_type</th>\n",
              "    </tr>\n",
              "  </thead>\n",
              "  <tbody>\n",
              "    <tr>\n",
              "      <th>0</th>\n",
              "      <td>6.0</td>\n",
              "      <td>192.168.0.152</td>\n",
              "      <td>0.0</td>\n",
              "      <td>0.0</td>\n",
              "      <td>0.0</td>\n",
              "      <td>0.0</td>\n",
              "      <td>0.0</td>\n",
              "      <td>0.0</td>\n",
              "      <td>0.0</td>\n",
              "      <td>0.0</td>\n",
              "      <td>...</td>\n",
              "      <td>0.0</td>\n",
              "      <td>0.0</td>\n",
              "      <td>0.0</td>\n",
              "      <td>0.0</td>\n",
              "      <td>0.0</td>\n",
              "      <td>0.0</td>\n",
              "      <td>0.0</td>\n",
              "      <td>0.0</td>\n",
              "      <td>1</td>\n",
              "      <td>MITM</td>\n",
              "    </tr>\n",
              "    <tr>\n",
              "      <th>1</th>\n",
              "      <td>6.0</td>\n",
              "      <td>192.168.0.101</td>\n",
              "      <td>0.0</td>\n",
              "      <td>0.0</td>\n",
              "      <td>0.0</td>\n",
              "      <td>0.0</td>\n",
              "      <td>0.0</td>\n",
              "      <td>0.0</td>\n",
              "      <td>0.0</td>\n",
              "      <td>0.0</td>\n",
              "      <td>...</td>\n",
              "      <td>0.0</td>\n",
              "      <td>0.0</td>\n",
              "      <td>0.0</td>\n",
              "      <td>0.0</td>\n",
              "      <td>0.0</td>\n",
              "      <td>0.0</td>\n",
              "      <td>0.0</td>\n",
              "      <td>0.0</td>\n",
              "      <td>1</td>\n",
              "      <td>MITM</td>\n",
              "    </tr>\n",
              "    <tr>\n",
              "      <th>2</th>\n",
              "      <td>6.0</td>\n",
              "      <td>192.168.0.152</td>\n",
              "      <td>0.0</td>\n",
              "      <td>0.0</td>\n",
              "      <td>0.0</td>\n",
              "      <td>0.0</td>\n",
              "      <td>0.0</td>\n",
              "      <td>0.0</td>\n",
              "      <td>0.0</td>\n",
              "      <td>0.0</td>\n",
              "      <td>...</td>\n",
              "      <td>0.0</td>\n",
              "      <td>0.0</td>\n",
              "      <td>0.0</td>\n",
              "      <td>0.0</td>\n",
              "      <td>0.0</td>\n",
              "      <td>0.0</td>\n",
              "      <td>0.0</td>\n",
              "      <td>0.0</td>\n",
              "      <td>1</td>\n",
              "      <td>MITM</td>\n",
              "    </tr>\n",
              "    <tr>\n",
              "      <th>3</th>\n",
              "      <td>6.0</td>\n",
              "      <td>192.168.0.101</td>\n",
              "      <td>0.0</td>\n",
              "      <td>0.0</td>\n",
              "      <td>0.0</td>\n",
              "      <td>0.0</td>\n",
              "      <td>0.0</td>\n",
              "      <td>0.0</td>\n",
              "      <td>0.0</td>\n",
              "      <td>0.0</td>\n",
              "      <td>...</td>\n",
              "      <td>0.0</td>\n",
              "      <td>0.0</td>\n",
              "      <td>0.0</td>\n",
              "      <td>0.0</td>\n",
              "      <td>0.0</td>\n",
              "      <td>0.0</td>\n",
              "      <td>0.0</td>\n",
              "      <td>0.0</td>\n",
              "      <td>1</td>\n",
              "      <td>MITM</td>\n",
              "    </tr>\n",
              "    <tr>\n",
              "      <th>4</th>\n",
              "      <td>6.0</td>\n",
              "      <td>192.168.0.152</td>\n",
              "      <td>0.0</td>\n",
              "      <td>0.0</td>\n",
              "      <td>0.0</td>\n",
              "      <td>0.0</td>\n",
              "      <td>0.0</td>\n",
              "      <td>0.0</td>\n",
              "      <td>0.0</td>\n",
              "      <td>0.0</td>\n",
              "      <td>...</td>\n",
              "      <td>0.0</td>\n",
              "      <td>0.0</td>\n",
              "      <td>0.0</td>\n",
              "      <td>0.0</td>\n",
              "      <td>0.0</td>\n",
              "      <td>0.0</td>\n",
              "      <td>0.0</td>\n",
              "      <td>0.0</td>\n",
              "      <td>1</td>\n",
              "      <td>MITM</td>\n",
              "    </tr>\n",
              "  </tbody>\n",
              "</table>\n",
              "<p>5 rows × 63 columns</p>\n",
              "</div>\n",
              "    <div class=\"colab-df-buttons\">\n",
              "\n",
              "  <div class=\"colab-df-container\">\n",
              "    <button class=\"colab-df-convert\" onclick=\"convertToInteractive('df-5f086438-57fe-4a49-a213-6c5f89f48483')\"\n",
              "            title=\"Convert this dataframe to an interactive table.\"\n",
              "            style=\"display:none;\">\n",
              "\n",
              "  <svg xmlns=\"http://www.w3.org/2000/svg\" height=\"24px\" viewBox=\"0 -960 960 960\">\n",
              "    <path d=\"M120-120v-720h720v720H120Zm60-500h600v-160H180v160Zm220 220h160v-160H400v160Zm0 220h160v-160H400v160ZM180-400h160v-160H180v160Zm440 0h160v-160H620v160ZM180-180h160v-160H180v160Zm440 0h160v-160H620v160Z\"/>\n",
              "  </svg>\n",
              "    </button>\n",
              "\n",
              "  <style>\n",
              "    .colab-df-container {\n",
              "      display:flex;\n",
              "      gap: 12px;\n",
              "    }\n",
              "\n",
              "    .colab-df-convert {\n",
              "      background-color: #E8F0FE;\n",
              "      border: none;\n",
              "      border-radius: 50%;\n",
              "      cursor: pointer;\n",
              "      display: none;\n",
              "      fill: #1967D2;\n",
              "      height: 32px;\n",
              "      padding: 0 0 0 0;\n",
              "      width: 32px;\n",
              "    }\n",
              "\n",
              "    .colab-df-convert:hover {\n",
              "      background-color: #E2EBFA;\n",
              "      box-shadow: 0px 1px 2px rgba(60, 64, 67, 0.3), 0px 1px 3px 1px rgba(60, 64, 67, 0.15);\n",
              "      fill: #174EA6;\n",
              "    }\n",
              "\n",
              "    .colab-df-buttons div {\n",
              "      margin-bottom: 4px;\n",
              "    }\n",
              "\n",
              "    [theme=dark] .colab-df-convert {\n",
              "      background-color: #3B4455;\n",
              "      fill: #D2E3FC;\n",
              "    }\n",
              "\n",
              "    [theme=dark] .colab-df-convert:hover {\n",
              "      background-color: #434B5C;\n",
              "      box-shadow: 0px 1px 3px 1px rgba(0, 0, 0, 0.15);\n",
              "      filter: drop-shadow(0px 1px 2px rgba(0, 0, 0, 0.3));\n",
              "      fill: #FFFFFF;\n",
              "    }\n",
              "  </style>\n",
              "\n",
              "    <script>\n",
              "      const buttonEl =\n",
              "        document.querySelector('#df-5f086438-57fe-4a49-a213-6c5f89f48483 button.colab-df-convert');\n",
              "      buttonEl.style.display =\n",
              "        google.colab.kernel.accessAllowed ? 'block' : 'none';\n",
              "\n",
              "      async function convertToInteractive(key) {\n",
              "        const element = document.querySelector('#df-5f086438-57fe-4a49-a213-6c5f89f48483');\n",
              "        const dataTable =\n",
              "          await google.colab.kernel.invokeFunction('convertToInteractive',\n",
              "                                                    [key], {});\n",
              "        if (!dataTable) return;\n",
              "\n",
              "        const docLinkHtml = 'Like what you see? Visit the ' +\n",
              "          '<a target=\"_blank\" href=https://colab.research.google.com/notebooks/data_table.ipynb>data table notebook</a>'\n",
              "          + ' to learn more about interactive tables.';\n",
              "        element.innerHTML = '';\n",
              "        dataTable['output_type'] = 'display_data';\n",
              "        await google.colab.output.renderOutput(dataTable, element);\n",
              "        const docLink = document.createElement('div');\n",
              "        docLink.innerHTML = docLinkHtml;\n",
              "        element.appendChild(docLink);\n",
              "      }\n",
              "    </script>\n",
              "  </div>\n",
              "\n",
              "\n",
              "    <div id=\"df-e8898d3f-1d8e-4bf1-9db5-28727e1a376d\">\n",
              "      <button class=\"colab-df-quickchart\" onclick=\"quickchart('df-e8898d3f-1d8e-4bf1-9db5-28727e1a376d')\"\n",
              "                title=\"Suggest charts\"\n",
              "                style=\"display:none;\">\n",
              "\n",
              "<svg xmlns=\"http://www.w3.org/2000/svg\" height=\"24px\"viewBox=\"0 0 24 24\"\n",
              "     width=\"24px\">\n",
              "    <g>\n",
              "        <path d=\"M19 3H5c-1.1 0-2 .9-2 2v14c0 1.1.9 2 2 2h14c1.1 0 2-.9 2-2V5c0-1.1-.9-2-2-2zM9 17H7v-7h2v7zm4 0h-2V7h2v10zm4 0h-2v-4h2v4z\"/>\n",
              "    </g>\n",
              "</svg>\n",
              "      </button>\n",
              "\n",
              "<style>\n",
              "  .colab-df-quickchart {\n",
              "      --bg-color: #E8F0FE;\n",
              "      --fill-color: #1967D2;\n",
              "      --hover-bg-color: #E2EBFA;\n",
              "      --hover-fill-color: #174EA6;\n",
              "      --disabled-fill-color: #AAA;\n",
              "      --disabled-bg-color: #DDD;\n",
              "  }\n",
              "\n",
              "  [theme=dark] .colab-df-quickchart {\n",
              "      --bg-color: #3B4455;\n",
              "      --fill-color: #D2E3FC;\n",
              "      --hover-bg-color: #434B5C;\n",
              "      --hover-fill-color: #FFFFFF;\n",
              "      --disabled-bg-color: #3B4455;\n",
              "      --disabled-fill-color: #666;\n",
              "  }\n",
              "\n",
              "  .colab-df-quickchart {\n",
              "    background-color: var(--bg-color);\n",
              "    border: none;\n",
              "    border-radius: 50%;\n",
              "    cursor: pointer;\n",
              "    display: none;\n",
              "    fill: var(--fill-color);\n",
              "    height: 32px;\n",
              "    padding: 0;\n",
              "    width: 32px;\n",
              "  }\n",
              "\n",
              "  .colab-df-quickchart:hover {\n",
              "    background-color: var(--hover-bg-color);\n",
              "    box-shadow: 0 1px 2px rgba(60, 64, 67, 0.3), 0 1px 3px 1px rgba(60, 64, 67, 0.15);\n",
              "    fill: var(--button-hover-fill-color);\n",
              "  }\n",
              "\n",
              "  .colab-df-quickchart-complete:disabled,\n",
              "  .colab-df-quickchart-complete:disabled:hover {\n",
              "    background-color: var(--disabled-bg-color);\n",
              "    fill: var(--disabled-fill-color);\n",
              "    box-shadow: none;\n",
              "  }\n",
              "\n",
              "  .colab-df-spinner {\n",
              "    border: 2px solid var(--fill-color);\n",
              "    border-color: transparent;\n",
              "    border-bottom-color: var(--fill-color);\n",
              "    animation:\n",
              "      spin 1s steps(1) infinite;\n",
              "  }\n",
              "\n",
              "  @keyframes spin {\n",
              "    0% {\n",
              "      border-color: transparent;\n",
              "      border-bottom-color: var(--fill-color);\n",
              "      border-left-color: var(--fill-color);\n",
              "    }\n",
              "    20% {\n",
              "      border-color: transparent;\n",
              "      border-left-color: var(--fill-color);\n",
              "      border-top-color: var(--fill-color);\n",
              "    }\n",
              "    30% {\n",
              "      border-color: transparent;\n",
              "      border-left-color: var(--fill-color);\n",
              "      border-top-color: var(--fill-color);\n",
              "      border-right-color: var(--fill-color);\n",
              "    }\n",
              "    40% {\n",
              "      border-color: transparent;\n",
              "      border-right-color: var(--fill-color);\n",
              "      border-top-color: var(--fill-color);\n",
              "    }\n",
              "    60% {\n",
              "      border-color: transparent;\n",
              "      border-right-color: var(--fill-color);\n",
              "    }\n",
              "    80% {\n",
              "      border-color: transparent;\n",
              "      border-right-color: var(--fill-color);\n",
              "      border-bottom-color: var(--fill-color);\n",
              "    }\n",
              "    90% {\n",
              "      border-color: transparent;\n",
              "      border-bottom-color: var(--fill-color);\n",
              "    }\n",
              "  }\n",
              "</style>\n",
              "\n",
              "      <script>\n",
              "        async function quickchart(key) {\n",
              "          const quickchartButtonEl =\n",
              "            document.querySelector('#' + key + ' button');\n",
              "          quickchartButtonEl.disabled = true;  // To prevent multiple clicks.\n",
              "          quickchartButtonEl.classList.add('colab-df-spinner');\n",
              "          try {\n",
              "            const charts = await google.colab.kernel.invokeFunction(\n",
              "                'suggestCharts', [key], {});\n",
              "          } catch (error) {\n",
              "            console.error('Error during call to suggestCharts:', error);\n",
              "          }\n",
              "          quickchartButtonEl.classList.remove('colab-df-spinner');\n",
              "          quickchartButtonEl.classList.add('colab-df-quickchart-complete');\n",
              "        }\n",
              "        (() => {\n",
              "          let quickchartButtonEl =\n",
              "            document.querySelector('#df-e8898d3f-1d8e-4bf1-9db5-28727e1a376d button');\n",
              "          quickchartButtonEl.style.display =\n",
              "            google.colab.kernel.accessAllowed ? 'block' : 'none';\n",
              "        })();\n",
              "      </script>\n",
              "    </div>\n",
              "\n",
              "    </div>\n",
              "  </div>\n"
            ],
            "application/vnd.google.colaboratory.intrinsic+json": {
              "type": "dataframe"
            }
          },
          "metadata": {}
        },
        {
          "output_type": "stream",
          "name": "stdout",
          "text": [
            "<class 'pandas.core.frame.DataFrame'>\n",
            "RangeIndex: 157800 entries, 0 to 157799\n",
            "Data columns (total 63 columns):\n",
            " #   Column                     Non-Null Count   Dtype  \n",
            "---  ------                     --------------   -----  \n",
            " 0   frame.time                 157800 non-null  object \n",
            " 1   ip.src_host                157800 non-null  object \n",
            " 2   ip.dst_host                157800 non-null  object \n",
            " 3   arp.dst.proto_ipv4         157800 non-null  object \n",
            " 4   arp.opcode                 157800 non-null  float64\n",
            " 5   arp.hw.size                157800 non-null  float64\n",
            " 6   arp.src.proto_ipv4         157800 non-null  object \n",
            " 7   icmp.checksum              157800 non-null  float64\n",
            " 8   icmp.seq_le                157800 non-null  float64\n",
            " 9   icmp.transmit_timestamp    157800 non-null  float64\n",
            " 10  icmp.unused                157800 non-null  float64\n",
            " 11  http.file_data             157800 non-null  object \n",
            " 12  http.content_length        157800 non-null  float64\n",
            " 13  http.request.uri.query     157800 non-null  object \n",
            " 14  http.request.method        157800 non-null  object \n",
            " 15  http.referer               157800 non-null  object \n",
            " 16  http.request.full_uri      157800 non-null  object \n",
            " 17  http.request.version       157800 non-null  object \n",
            " 18  http.response              157800 non-null  float64\n",
            " 19  http.tls_port              157800 non-null  float64\n",
            " 20  tcp.ack                    157800 non-null  float64\n",
            " 21  tcp.ack_raw                157800 non-null  float64\n",
            " 22  tcp.checksum               157800 non-null  float64\n",
            " 23  tcp.connection.fin         157800 non-null  float64\n",
            " 24  tcp.connection.rst         157800 non-null  float64\n",
            " 25  tcp.connection.syn         157800 non-null  float64\n",
            " 26  tcp.connection.synack      157800 non-null  float64\n",
            " 27  tcp.dstport                157800 non-null  float64\n",
            " 28  tcp.flags                  157800 non-null  float64\n",
            " 29  tcp.flags.ack              157800 non-null  float64\n",
            " 30  tcp.len                    157800 non-null  float64\n",
            " 31  tcp.options                157800 non-null  object \n",
            " 32  tcp.payload                157800 non-null  object \n",
            " 33  tcp.seq                    157800 non-null  float64\n",
            " 34  tcp.srcport                157800 non-null  object \n",
            " 35  udp.port                   157800 non-null  float64\n",
            " 36  udp.stream                 157800 non-null  float64\n",
            " 37  udp.time_delta             157800 non-null  float64\n",
            " 38  dns.qry.name               157800 non-null  float64\n",
            " 39  dns.qry.name.len           157800 non-null  object \n",
            " 40  dns.qry.qu                 157800 non-null  float64\n",
            " 41  dns.qry.type               157800 non-null  float64\n",
            " 42  dns.retransmission         157800 non-null  float64\n",
            " 43  dns.retransmit_request     157800 non-null  float64\n",
            " 44  dns.retransmit_request_in  157800 non-null  float64\n",
            " 45  mqtt.conack.flags          157800 non-null  object \n",
            " 46  mqtt.conflag.cleansess     157800 non-null  float64\n",
            " 47  mqtt.conflags              157800 non-null  float64\n",
            " 48  mqtt.hdrflags              157800 non-null  float64\n",
            " 49  mqtt.len                   157800 non-null  float64\n",
            " 50  mqtt.msg_decoded_as        157800 non-null  float64\n",
            " 51  mqtt.msg                   157800 non-null  object \n",
            " 52  mqtt.msgtype               157800 non-null  float64\n",
            " 53  mqtt.proto_len             157800 non-null  float64\n",
            " 54  mqtt.protoname             157800 non-null  object \n",
            " 55  mqtt.topic                 157800 non-null  object \n",
            " 56  mqtt.topic_len             157800 non-null  float64\n",
            " 57  mqtt.ver                   157800 non-null  float64\n",
            " 58  mbtcp.len                  157800 non-null  float64\n",
            " 59  mbtcp.trans_id             157800 non-null  float64\n",
            " 60  mbtcp.unit_id              157800 non-null  float64\n",
            " 61  Attack_label               157800 non-null  int64  \n",
            " 62  Attack_type                157800 non-null  object \n",
            "dtypes: float64(42), int64(1), object(20)\n",
            "memory usage: 75.8+ MB\n"
          ]
        }
      ]
    },
    {
      "cell_type": "code",
      "source": [
        "import pandas as pd\n",
        "import numpy as np\n",
        "from sklearn.preprocessing import LabelEncoder, StandardScaler\n",
        "from sklearn.model_selection import train_test_split\n",
        "import joblib"
      ],
      "metadata": {
        "id": "Ps8IVMV9YWgQ"
      },
      "execution_count": 6,
      "outputs": []
    },
    {
      "cell_type": "code",
      "source": [
        "\n",
        "print(\"Initial shape:\", df.shape)"
      ],
      "metadata": {
        "id": "S2KTtsCpn7Kg",
        "colab": {
          "base_uri": "https://localhost:8080/"
        },
        "outputId": "728633bf-a725-4679-f318-8fd276dffde0"
      },
      "execution_count": 7,
      "outputs": [
        {
          "output_type": "stream",
          "name": "stdout",
          "text": [
            "Initial shape: (157800, 63)\n"
          ]
        }
      ]
    },
    {
      "cell_type": "code",
      "source": [
        "\n",
        "drop_cols = [\n",
        "    \"ip.src_host\", \"ip.dst_host\", \"http.file_data\", \"http.request.full_uri\",\n",
        "    \"http.referer\", \"http.request.uri.query\", \"tcp.options\", \"tcp.payload\",\n",
        "    \"mqtt.msg\", \"mqtt.protoname\", \"mqtt.topic\", \"dns.qry.name\"\n",
        "]\n",
        "df = df.drop(columns=drop_cols, errors=\"ignore\")\n",
        "print(\"After dropping columns:\", df.shape)"
      ],
      "metadata": {
        "id": "6JqKlpcApp1M",
        "colab": {
          "base_uri": "https://localhost:8080/"
        },
        "outputId": "56c9a740-d8bf-4475-a60e-358fb073148e"
      },
      "execution_count": 8,
      "outputs": [
        {
          "output_type": "stream",
          "name": "stdout",
          "text": [
            "After dropping columns: (157800, 51)\n"
          ]
        }
      ]
    },
    {
      "cell_type": "code",
      "source": [
        "\n",
        "cat_cols = df.select_dtypes(include=[\"object\"]).columns.tolist()\n",
        "cat_cols = [c for c in cat_cols if c != \"Attack_type\"]\n",
        "print(\"Categorical columns to encode:\", cat_cols)"
      ],
      "metadata": {
        "id": "17vKrAffpzp_",
        "colab": {
          "base_uri": "https://localhost:8080/"
        },
        "outputId": "5f213c0c-916a-4f86-8498-e331b04475d6"
      },
      "execution_count": 9,
      "outputs": [
        {
          "output_type": "stream",
          "name": "stdout",
          "text": [
            "Categorical columns to encode: ['frame.time', 'arp.dst.proto_ipv4', 'arp.src.proto_ipv4', 'http.request.method', 'http.request.version', 'tcp.srcport', 'dns.qry.name.len', 'mqtt.conack.flags']\n"
          ]
        }
      ]
    },
    {
      "cell_type": "code",
      "source": [
        "# encoded categorial features\n",
        "for col in cat_cols:\n",
        "    le = LabelEncoder()\n",
        "    df[col] = le.fit_transform(df[col].astype(str))"
      ],
      "metadata": {
        "id": "xi7TXp8Msp7S"
      },
      "execution_count": 10,
      "outputs": []
    },
    {
      "cell_type": "markdown",
      "source": [
        "Categorical features are columns that contain textual or symbolic values instead of numbers."
      ],
      "metadata": {
        "id": "zoEtuMO3mIQK"
      }
    },
    {
      "cell_type": "code",
      "source": [
        "\n",
        "df = df.replace(\"?\", np.nan)\n",
        "df = df.fillna(0)"
      ],
      "metadata": {
        "id": "6Zx6xqrdswYs"
      },
      "execution_count": 11,
      "outputs": []
    },
    {
      "cell_type": "code",
      "source": [
        "#  Separate features & labels\n",
        "\n",
        "X = df.drop(columns=[\"Attack_label\", \"Attack_type\"], errors=\"ignore\")\n",
        "y = df[\"Attack_label\"]  # binary: 0 = Normal, 1 = Attack\n",
        "print(\"Features shape:\", X.shape)\n",
        "print(\"Labels shape:\", y.shape)\n"
      ],
      "metadata": {
        "id": "A5VXo3yps2Wt",
        "colab": {
          "base_uri": "https://localhost:8080/"
        },
        "outputId": "e3a4ca35-d95f-4b3e-e0d7-43239975b056"
      },
      "execution_count": 12,
      "outputs": [
        {
          "output_type": "stream",
          "name": "stdout",
          "text": [
            "Features shape: (157800, 49)\n",
            "Labels shape: (157800,)\n"
          ]
        }
      ]
    },
    {
      "cell_type": "code",
      "source": [
        "#  Train-test split\n",
        "\n",
        "X_train, X_test, y_train, y_test = train_test_split(\n",
        "    X, y, test_size=0.3, random_state=42, stratify=y\n",
        ")"
      ],
      "metadata": {
        "id": "wUM6AGu5s4tK"
      },
      "execution_count": 13,
      "outputs": []
    },
    {
      "cell_type": "code",
      "source": [
        "#  Scale numerical features\n",
        "scaler = StandardScaler()\n",
        "X_train_scaled = scaler.fit_transform(X_train)\n",
        "X_test_scaled = scaler.transform(X_test)\n",
        "print(\"X_train_scaled shape:\", X_train_scaled.shape)\n"
      ],
      "metadata": {
        "id": "KTmO5-B_s9V9",
        "colab": {
          "base_uri": "https://localhost:8080/"
        },
        "outputId": "a892103f-5c2a-4c77-8a30-04674c3b7f14"
      },
      "execution_count": 14,
      "outputs": [
        {
          "output_type": "stream",
          "name": "stdout",
          "text": [
            "X_train_scaled shape: (110460, 49)\n"
          ]
        }
      ]
    },
    {
      "cell_type": "markdown",
      "source": [],
      "metadata": {
        "id": "MMvuuYZKnbYk"
      }
    },
    {
      "cell_type": "code",
      "source": [
        "#  Save preprocessing objects\n",
        "\n",
        "joblib.dump(scaler, \"scaler.pkl\")\n",
        "print(\" Preprocessing complete. Scaler saved as scaler.pkl\")"
      ],
      "metadata": {
        "id": "6UOyKkcvtBaL",
        "colab": {
          "base_uri": "https://localhost:8080/"
        },
        "outputId": "3e15bd58-27cf-49c3-a2a9-8bf724350319"
      },
      "execution_count": 16,
      "outputs": [
        {
          "output_type": "stream",
          "name": "stdout",
          "text": [
            " Preprocessing complete. Scaler saved as scaler.pkl\n"
          ]
        }
      ]
    },
    {
      "cell_type": "code",
      "source": [
        "from sklearn.ensemble import RandomForestClassifier\n",
        "from sklearn.metrics import classification_report, confusion_matrix, accuracy_score\n",
        "\n",
        "rf = RandomForestClassifier(\n",
        "    n_estimators=100,\n",
        "    max_depth=15,\n",
        "    random_state=42,\n",
        "    n_jobs=-1\n",
        ")\n",
        "\n",
        "\n",
        "# Train the model\n",
        "\n",
        "rf.fit(X_train_scaled, y_train)\n",
        "\n",
        "# Make predictions\n",
        "\n",
        "y_pred = rf.predict(X_test_scaled)\n",
        "\n",
        "\n",
        "\n",
        "accuracy = accuracy_score(y_test, y_pred) * 100  # convert to percentage\n",
        "print(f\"RandomForest Accuracy: {accuracy:.2f}%\")\n",
        "\n",
        "print(\"\\nClassification Report:\\n\", classification_report(y_test, y_pred))\n",
        "print(\"\\nConfusion Matrix:\\n\", confusion_matrix(y_test, y_pred))\n",
        "\n",
        "# Save model\n",
        "\n",
        "import joblib\n",
        "joblib.dump(rf, \"randomforest_ids_model.pkl\")\n",
        "print(\" RandomForest model saved as randomforest_ids_model.pkl\")\n"
      ],
      "metadata": {
        "id": "5JzG97EJt-Zr",
        "colab": {
          "base_uri": "https://localhost:8080/"
        },
        "outputId": "92216903-4842-449f-db01-3f39d66afd1a"
      },
      "execution_count": 17,
      "outputs": [
        {
          "output_type": "stream",
          "name": "stdout",
          "text": [
            "RandomForest Accuracy: 100.00%\n",
            "\n",
            "Classification Report:\n",
            "               precision    recall  f1-score   support\n",
            "\n",
            "           0       1.00      1.00      1.00      7290\n",
            "           1       1.00      1.00      1.00     40050\n",
            "\n",
            "    accuracy                           1.00     47340\n",
            "   macro avg       1.00      1.00      1.00     47340\n",
            "weighted avg       1.00      1.00      1.00     47340\n",
            "\n",
            "\n",
            "Confusion Matrix:\n",
            " [[ 7290     0]\n",
            " [    0 40050]]\n",
            " RandomForest model saved as randomforest_ids_model.pkl\n"
          ]
        }
      ]
    },
    {
      "cell_type": "markdown",
      "source": [
        "Model was overfitted due to leakage."
      ],
      "metadata": {
        "id": "niYYEwF7GtJM"
      }
    },
    {
      "cell_type": "code",
      "source": [
        "\n",
        "# Confusion Matrix Plot\n",
        "\n",
        "import matplotlib.pyplot as plt\n",
        "import seaborn as sns\n",
        "from sklearn.metrics import confusion_matrix, ConfusionMatrixDisplay\n",
        "\n",
        "cm = confusion_matrix(y_test, y_pred)\n",
        "\n",
        "labels = ['Normal (0)', 'Attack (1)']\n",
        "\n",
        "plt.figure(figsize=(6, 5))\n",
        "sns.heatmap(cm, annot=True, fmt='d', cmap='Blues',\n",
        "            xticklabels=labels, yticklabels=labels)\n",
        "plt.title(\"Confusion Matrix - RandomForest IDS\")\n",
        "plt.xlabel(\"Predicted Labels\")\n",
        "plt.ylabel(\"True Labels\")\n",
        "plt.show()\n",
        "\n",
        "\n"
      ],
      "metadata": {
        "id": "FV10Ld0JMAhp",
        "colab": {
          "base_uri": "https://localhost:8080/",
          "height": 487
        },
        "outputId": "296cad1a-b59b-48ae-e65b-f72640ea456e"
      },
      "execution_count": 18,
      "outputs": [
        {
          "output_type": "display_data",
          "data": {
            "text/plain": [
              "<Figure size 600x500 with 2 Axes>"
            ],
            "image/png": "[encoded data removed]"
          },
          "metadata": {}
        }
      ]
    },
    {
      "cell_type": "code",
      "source": [
        "import lightgbm as lgb\n",
        "from sklearn.metrics import classification_report, confusion_matrix, accuracy_score\n",
        "\n",
        "# Create LightGBM dataset\n",
        "\n",
        "lgb_train = lgb.Dataset(X_train_scaled, label=y_train)\n",
        "lgb_test = lgb.Dataset(X_test_scaled, label=y_test, reference=lgb_train)\n",
        "\n",
        "# Set parameters\n",
        "\n",
        "params = {\n",
        "    'objective': 'binary',\n",
        "    'metric': 'binary_logloss',\n",
        "    'boosting_type': 'gbdt',\n",
        "    'num_leaves': 31,\n",
        "    'learning_rate': 0.05,\n",
        "    'feature_fraction': 0.8,\n",
        "    'bagging_fraction': 0.8,\n",
        "    'bagging_freq': 5,\n",
        "    'verbose': -1,\n",
        "    'random_state': 42\n",
        "}\n",
        "\n",
        "\n",
        "# Train LightGBM model\n",
        "\n",
        "lgbm_model = lgb.train(\n",
        "    params,\n",
        "    lgb_train,\n",
        "    num_boost_round=200,\n",
        "    valid_sets=[lgb_train, lgb_test],\n",
        "    valid_names=['train','test'],\n",
        "    callbacks=[lgb.early_stopping(stopping_rounds=20, verbose=True)]\n",
        ")\n",
        "\n",
        "\n",
        "# Predictions\n",
        "y_pred_prob = lgbm_model.predict(X_test_scaled, num_iteration=lgbm_model.best_iteration)\n",
        "y_pred = (y_pred_prob > 0.5).astype(int)  # convert probabilities to 0/1\n",
        "\n",
        "# Evaluation\n",
        "\n",
        "accuracy = accuracy_score(y_test, y_pred)\n",
        "print(f\" LightGBM Accuracy: {accuracy:.4f}\")\n",
        "\n",
        "print(\"\\nClassification Report:\\n\", classification_report(y_test, y_pred))\n",
        "print(\"\\nConfusion Matrix:\\n\", confusion_matrix(y_test, y_pred))\n",
        "\n",
        "# Save model for inference\n",
        "\n",
        "lgbm_model.save_model(\"lightgbm_ids_model.txt\")\n",
        "print(\" LightGBM model saved as lightgbm_ids_model.txt\")"
      ],
      "metadata": {
        "id": "ntw1KW_FuMgx",
        "colab": {
          "base_uri": "https://localhost:8080/"
        },
        "outputId": "19efaed5-5695-43af-e9bf-060b56653871"
      },
      "execution_count": 19,
      "outputs": [
        {
          "output_type": "stream",
          "name": "stdout",
          "text": [
            "Training until validation scores don't improve for 20 rounds\n",
            "Did not meet early stopping. Best iteration is:\n",
            "[200]\ttrain's binary_logloss: 1.16288e-05\ttest's binary_logloss: 1.16584e-05\n",
            " LightGBM Accuracy: 1.0000\n",
            "\n",
            "Classification Report:\n",
            "               precision    recall  f1-score   support\n",
            "\n",
            "           0       1.00      1.00      1.00      7290\n",
            "           1       1.00      1.00      1.00     40050\n",
            "\n",
            "    accuracy                           1.00     47340\n",
            "   macro avg       1.00      1.00      1.00     47340\n",
            "weighted avg       1.00      1.00      1.00     47340\n",
            "\n",
            "\n",
            "Confusion Matrix:\n",
            " [[ 7290     0]\n",
            " [    0 40050]]\n",
            " LightGBM model saved as lightgbm_ids_model.txt\n"
          ]
        }
      ]
    },
    {
      "cell_type": "markdown",
      "source": [
        "Some features in the Edge-IIoTset dataset are directly or almost perfectly correlated with the attack label.<br>\n",
        "X_train, X_test, y_train, y_test = train_test_split(X, y, test_size=0.3, random_state=42) -This splits rows randomly.\n",
        "\n",
        "For IoT/IIoT data, multiple packets belong to the same session/device.\n",
        "\n",
        "Random splitting caused packets from the same session to appear in both train and test.\n"
      ],
      "metadata": {
        "id": "lsTt5uD3Hdl6"
      }
    },
    {
      "cell_type": "code",
      "source": [
        "from sklearn.metrics import roc_curve, auc\n",
        "import matplotlib.pyplot as plt\n",
        "\n",
        "fpr, tpr, thresholds = roc_curve(y_test, y_pred_prob)\n",
        "roc_auc = auc(fpr, tpr)\n",
        "\n",
        "plt.plot(fpr, tpr, label=f'ROC curve (AUC = {roc_auc:.2f})')\n",
        "plt.plot([0,1], [0,1], linestyle='--', color='gray')\n",
        "plt.xlabel('False Positive Rate')\n",
        "plt.ylabel('True Positive Rate')\n",
        "plt.title('ROC Curve')\n",
        "plt.legend()\n",
        "plt.show()\n",
        "\n"
      ],
      "metadata": {
        "id": "45H2MR9ANTnF",
        "colab": {
          "base_uri": "https://localhost:8080/",
          "height": 472
        },
        "outputId": "204254cc-1fbb-4b80-b1a0-24d07c10775a"
      },
      "execution_count": 20,
      "outputs": [
        {
          "output_type": "display_data",
          "data": {
            "text/plain": [
              "<Figure size 640x480 with 1 Axes>"
            ],
            "image/png": "[encoded data removed]"
          },
          "metadata": {}
        }
      ]
    },
    {
      "cell_type": "markdown",
      "source": [
        "KEY TAKE AWAY:Perfect Metrics:\n",
        "\n",
        "Your model shows 100% accuracy, precision, recall, and F1-score.\n",
        "\n",
        "This means the model predicts all test samples correctly.\n",
        "\n",
        "Linear ROC Curve:\n",
        "\n",
        "A ROC curve plots True Positive Rate (Recall) vs False Positive Rate at different thresholds.\n",
        "\n",
        "A typical ROC curve rises toward the top-left corner.\n",
        "\n",
        "If your ROC is linear (a straight diagonal line), it looks like random guessing, which contradicts the perfect metrics.\n",
        "\n",
        "Why this happens:\n",
        "\n",
        "Overfitting: The model memorized the training data and performs perfectly on the test set, leaving no room for threshold variation.\n",
        "\n",
        "Incorrect plotting: Often, people plot ROC using binary predictions (0/1) instead of continuous probabilities. The ROC must be calculated from the model’s predicted probabilities, not the thresholded labels"
      ],
      "metadata": {
        "id": "0Y8IPL81OHfP"
      }
    },
    {
      "cell_type": "code",
      "source": [
        "print(\"Overlapping rows between train and test:\", len(set(X_train.index) & set(X_test.index)))\n"
      ],
      "metadata": {
        "id": "8iTxJbunuxeN",
        "colab": {
          "base_uri": "https://localhost:8080/"
        },
        "outputId": "e6fce752-e5f4-4259-9a5c-35f93151473c"
      },
      "execution_count": 21,
      "outputs": [
        {
          "output_type": "stream",
          "name": "stdout",
          "text": [
            "Overlapping rows between train and test: 0\n"
          ]
        }
      ]
    },
    {
      "cell_type": "code",
      "source": [
        "print(\"Train class distribution:\\n\", y_train.value_counts())\n",
        "print(\"Test class distribution:\\n\", y_test.value_counts())\n"
      ],
      "metadata": {
        "id": "RSAMvLKW2CqN",
        "colab": {
          "base_uri": "https://localhost:8080/"
        },
        "outputId": "e4a080d0-97a6-46f9-bf3e-1a731ade20fe"
      },
      "execution_count": 22,
      "outputs": [
        {
          "output_type": "stream",
          "name": "stdout",
          "text": [
            "Train class distribution:\n",
            " Attack_label\n",
            "1    93449\n",
            "0    17011\n",
            "Name: count, dtype: int64\n",
            "Test class distribution:\n",
            " Attack_label\n",
            "1    40050\n",
            "0     7290\n",
            "Name: count, dtype: int64\n"
          ]
        }
      ]
    },
    {
      "cell_type": "markdown",
      "source": [
        "trying to remove leaks from the dataset"
      ],
      "metadata": {
        "id": "nodc4LE94HB7"
      }
    },
    {
      "cell_type": "code",
      "source": [
        "#  Preprocessing and feature selection with potential leak removal\n",
        "\n",
        "import pandas as pd\n",
        "import numpy as np\n",
        "from sklearn.preprocessing import LabelEncoder, StandardScaler\n",
        "from sklearn.model_selection import train_test_split\n",
        "import joblib\n",
        "\n",
        "# Drop raw/text columns (same as before)\n",
        "drop_cols = [\n",
        "    \"ip.src_host\", \"ip.dst_host\", \"http.file_data\", \"http.request.full_uri\",\n",
        "    \"http.referer\", \"http.request.uri.query\", \"tcp.options\", \"tcp.payload\",\n",
        "    \"mqtt.msg\", \"mqtt.protoname\", \"mqtt.topic\", \"dns.qry.name\"\n",
        "]\n",
        "df = df.drop(columns=drop_cols, errors=\"ignore\")\n",
        "\n",
        "# Remove high-leakage numeric features\n",
        "# Features that are too directly correlated with attacks\n",
        "leak_cols = [\"mbtcp.trans_id\", \"icmp.seq_le\", \"tcp.seq\", \"tcp.ack\", \"dns.qry.qu\"]\n",
        "df = df.drop(columns=[c for c in leak_cols if c in df.columns], errors=\"ignore\")\n",
        "\n",
        "# Identify categorical features (excluding target)\n",
        "cat_cols = df.select_dtypes(include=[\"object\"]).columns.tolist()\n",
        "cat_cols = [c for c in cat_cols if c != \"Attack_type\"]\n",
        "\n",
        "# For high-cardinality categorical columns, drop or aggregate\n",
        "high_cardinality_cols = [\"frame.time\"]  # too many unique values → could leak info\n",
        "cat_cols = [c for c in cat_cols if c not in high_cardinality_cols]\n",
        "\n",
        "# Encode remaining categorical features\n",
        "for col in cat_cols:\n",
        "    le = LabelEncoder()\n",
        "    df[col] = le.fit_transform(df[col].astype(str))\n",
        "\n",
        "# Handle missing values\n",
        "df = df.replace(\"?\", np.nan)\n",
        "df = df.fillna(0)\n",
        "\n",
        "# Separate features and labels\n",
        "X = df.drop(columns=[\"Attack_label\", \"Attack_type\"], errors=\"ignore\")\n",
        "y = df[\"Attack_label\"]\n",
        "\n",
        "print(\"Features shape after leak removal:\", X.shape)\n",
        "print(\"Labels shape:\", y.shape)\n"
      ],
      "metadata": {
        "id": "xuyt2-6r4LMI",
        "colab": {
          "base_uri": "https://localhost:8080/"
        },
        "outputId": "c0448797-09b8-4fb8-dc87-72a4a72cd90b"
      },
      "execution_count": 23,
      "outputs": [
        {
          "output_type": "stream",
          "name": "stdout",
          "text": [
            "Features shape after leak removal: (157800, 44)\n",
            "Labels shape: (157800,)\n"
          ]
        }
      ]
    },
    {
      "cell_type": "code",
      "source": [
        "# Model Evaluation Visualizations\n",
        "import matplotlib.pyplot as plt\n",
        "import seaborn as sns\n",
        "from sklearn.metrics import confusion_matrix, precision_recall_curve, roc_curve, auc\n",
        "\n",
        "# Class Distribution Histogram\n",
        "plt.figure(figsize=(5, 4))\n",
        "sns.countplot(x=y_test)\n",
        "plt.title(\"Class Distribution in Test Set\")\n",
        "plt.xlabel(\"Class Label\")\n",
        "plt.ylabel(\"Count\")\n",
        "plt.show()\n"
      ],
      "metadata": {
        "id": "V6VQQVWHQpP7",
        "colab": {
          "base_uri": "https://localhost:8080/",
          "height": 410
        },
        "outputId": "0398bd12-90e2-4c34-d1fa-c770b14985a8"
      },
      "execution_count": 24,
      "outputs": [
        {
          "output_type": "display_data",
          "data": {
            "text/plain": [
              "<Figure size 500x400 with 1 Axes>"
            ],
            "image/png": "[encoded data removed]"
          },
          "metadata": {}
        }
      ]
    },
    {
      "cell_type": "code",
      "source": [
        "# Cell 7: Train-test split using device/session grouping to avoid flow leakage\n",
        "\n",
        "from sklearn.model_selection import GroupShuffleSplit\n",
        "\n",
        "# Assume 'tcp.srcport' or another field as session/device identifier for grouping\n",
        "# For simplicity, let's use 'tcp.srcport' if it exists, otherwise skip grouping\n",
        "group_col = \"tcp.srcport\" if \"tcp.srcport\" in df.columns else None\n",
        "\n",
        "if group_col:\n",
        "    gss = GroupShuffleSplit(n_splits=1, test_size=0.3, random_state=42)\n",
        "    train_idx, test_idx = next(gss.split(X, y, groups=df[group_col]))\n",
        "    X_train, X_test = X.iloc[train_idx], X.iloc[test_idx]\n",
        "    y_train, y_test = y.iloc[train_idx], y.iloc[test_idx]\n",
        "else:\n",
        "    # fallback\n",
        "    X_train, X_test, y_train, y_test = train_test_split(\n",
        "        X, y, test_size=0.3, random_state=42, stratify=y\n",
        "    )\n",
        "\n",
        "print(\"Train shape:\", X_train.shape)\n",
        "print(\"Test shape:\", X_test.shape)\n",
        "print(\"Overlapping rows between train and test:\", len(set(X_train.index) & set(X_test.index)))\n"
      ],
      "metadata": {
        "id": "GhkHgf3m4V2B",
        "colab": {
          "base_uri": "https://localhost:8080/"
        },
        "outputId": "04c7cc7c-8d8d-4cc8-cda9-63912d299ea7"
      },
      "execution_count": 25,
      "outputs": [
        {
          "output_type": "stream",
          "name": "stdout",
          "text": [
            "Train shape: (114185, 44)\n",
            "Test shape: (43615, 44)\n",
            "Overlapping rows between train and test: 0\n"
          ]
        }
      ]
    },
    {
      "cell_type": "code",
      "source": [
        "# Cell 8: Standard scaling\n",
        "\n",
        "scaler = StandardScaler()\n",
        "X_train_scaled = scaler.fit_transform(X_train)\n",
        "X_test_scaled = scaler.transform(X_test)\n",
        "\n",
        "# Save scaler\n",
        "joblib.dump(scaler, \"scaler_ids.pkl\")\n",
        "print(\"Scaler saved\")\n"
      ],
      "metadata": {
        "id": "FFA9P02P4ZTI",
        "colab": {
          "base_uri": "https://localhost:8080/"
        },
        "outputId": "549bc62d-2bad-40fe-e88f-560b93d999dd"
      },
      "execution_count": 26,
      "outputs": [
        {
          "output_type": "stream",
          "name": "stdout",
          "text": [
            "Scaler saved\n"
          ]
        }
      ]
    },
    {
      "cell_type": "code",
      "metadata": {
        "id": "d5c18b36",
        "colab": {
          "base_uri": "https://localhost:8080/"
        },
        "outputId": "506d7f90-3bab-4cb0-c253-c35d11d2eba4"
      },
      "source": [
        "# Cell 8: Standard scaling\n",
        "\n",
        "scaler = StandardScaler()\n",
        "X_train_scaled = scaler.fit_transform(X_train)\n",
        "X_test_scaled = scaler.transform(X_test)\n",
        "\n",
        "# Save scaler\n",
        "joblib.dump(scaler, \"scaler_ids.pkl\")\n",
        "print(\"✅ Scaler saved\")"
      ],
      "execution_count": 27,
      "outputs": [
        {
          "output_type": "stream",
          "name": "stdout",
          "text": [
            "✅ Scaler saved\n"
          ]
        }
      ]
    },
    {
      "cell_type": "code",
      "metadata": {
        "id": "3eafd9bc",
        "colab": {
          "base_uri": "https://localhost:8080/"
        },
        "outputId": "3fd163f3-369f-4508-fc0e-fdebc5f672bd"
      },
      "source": [
        "# Cell 9: RandomForest with class_weight and realistic evaluation\n",
        "\n",
        "from sklearn.ensemble import RandomForestClassifier\n",
        "from sklearn.metrics import classification_report, confusion_matrix, accuracy_score, f1_score, balanced_accuracy_score\n",
        "\n",
        "rf = RandomForestClassifier(\n",
        "    n_estimators=100,\n",
        "    max_depth=15,\n",
        "    random_state=42,\n",
        "    n_jobs=-1,\n",
        "    class_weight='balanced'  # handle imbalance\n",
        ")\n",
        "\n",
        "rf.fit(X_train_scaled, y_train)\n",
        "y_pred = rf.predict(X_test_scaled)\n",
        "\n",
        "# Metrics\n",
        "accuracy = accuracy_score(y_test, y_pred) * 100\n",
        "balanced_acc = balanced_accuracy_score(y_test, y_pred) * 100\n",
        "f1 = f1_score(y_test, y_pred) * 100\n",
        "\n",
        "print(f\" RandomForest Accuracy: {accuracy:.2f}%\")\n",
        "print(f\" RandomForest Balanced Accuracy: {balanced_acc:.2f}%\")\n",
        "print(f\" RandomForest F1-Score: {f1:.2f}%\\n\")\n",
        "\n",
        "print(\"Classification Report:\\n\", classification_report(y_test, y_pred))\n",
        "print(\"Confusion Matrix:\\n\", confusion_matrix(y_test, y_pred))\n",
        "\n",
        "# Save model\n",
        "joblib.dump(rf, \"randomforest_ids_model_balanced.pkl\")\n",
        "print(\"RandomForest model saved\")"
      ],
      "execution_count": 28,
      "outputs": [
        {
          "output_type": "stream",
          "name": "stdout",
          "text": [
            " RandomForest Accuracy: 97.02%\n",
            " RandomForest Balanced Accuracy: 96.21%\n",
            " RandomForest F1-Score: 97.60%\n",
            "\n",
            "Classification Report:\n",
            "               precision    recall  f1-score   support\n",
            "\n",
            "           0       1.00      0.92      0.96     17147\n",
            "           1       0.95      1.00      0.98     26468\n",
            "\n",
            "    accuracy                           0.97     43615\n",
            "   macro avg       0.98      0.96      0.97     43615\n",
            "weighted avg       0.97      0.97      0.97     43615\n",
            "\n",
            "Confusion Matrix:\n",
            " [[15846  1301]\n",
            " [    0 26468]]\n",
            "RandomForest model saved\n"
          ]
        }
      ]
    },
    {
      "cell_type": "code",
      "source": [
        "\n",
        "import seaborn as sns\n",
        "# Confusion Matrix Heatmap\n",
        "plt.figure(figsize=(5, 4))\n",
        "sns.heatmap(cm, annot=True, fmt='d', cmap='Blues', cbar=False)\n",
        "plt.xlabel(\"Predicted Labels\")\n",
        "plt.ylabel(\"True Labels\")\n",
        "plt.title(\"Confusion Matrix - Balanced RF\")\n",
        "plt.show()\n",
        "\n",
        "\n",
        "\n",
        "\n"
      ],
      "metadata": {
        "id": "z9eQEIYhRTS1",
        "colab": {
          "base_uri": "https://localhost:8080/",
          "height": 410
        },
        "outputId": "3ec5e16a-4f1e-4498-a72e-71c23ce2a28a"
      },
      "execution_count": 29,
      "outputs": [
        {
          "output_type": "display_data",
          "data": {
            "text/plain": [
              "<Figure size 500x400 with 1 Axes>"
            ],
            "image/png": "[encoded data removed]"
          },
          "metadata": {}
        }
      ]
    },
    {
      "cell_type": "markdown",
      "source": [
        "Dropped identifiable text/raw columns <br>\n",
        "\n",
        "Handled high-cardinality features (frame.time)\n",
        "\n",
        "Group-based train-test split - Ensures packets from the same session/device don’t appear in both train and test → mimics real-world deployment."
      ],
      "metadata": {
        "id": "dsyKIuNoSKRx"
      }
    },
    {
      "cell_type": "code",
      "source": [
        "\n",
        "# Improved Supervised Learning: RandomForest\n",
        "\n",
        "from sklearn.ensemble import RandomForestClassifier\n",
        "from sklearn.metrics import classification_report, confusion_matrix, accuracy_score, f1_score, balanced_accuracy_score\n",
        "import joblib\n",
        "\n",
        "# Initialize RandomForest with class_weight to handle imbalance\n",
        "rf = RandomForestClassifier(\n",
        "    n_estimators=200,      # more trees for stability\n",
        "    max_depth=15,          # prevent overfitting\n",
        "    random_state=42,\n",
        "    n_jobs=-1,\n",
        "    class_weight='balanced'\n",
        ")\n",
        "\n",
        "# Train the model\n",
        "rf.fit(X_train_scaled, y_train)\n",
        "\n",
        "# Make predictions\n",
        "y_pred = rf.predict(X_test_scaled)\n",
        "\n",
        "# Evaluation metrics in percentage\n",
        "accuracy = accuracy_score(y_test, y_pred) * 100\n",
        "balanced_acc = balanced_accuracy_score(y_test, y_pred) * 100\n",
        "f1 = f1_score(y_test, y_pred) * 100\n",
        "\n",
        "print(f\" RandomForest Accuracy: {accuracy:.2f}%\")\n",
        "print(f\" RandomForest Balanced Accuracy: {balanced_acc:.2f}%\")\n",
        "print(f\" RandomForest F1-Score: {f1:.2f}%\\n\")\n",
        "\n",
        "# Detailed classification report\n",
        "print(\"Classification Report:\\n\", classification_report(y_test, y_pred))\n",
        "print(\"Confusion Matrix:\\n\", confusion_matrix(y_test, y_pred))\n",
        "\n",
        "# Save the trained model\n",
        "joblib.dump(rf, \"randomforest_ids_model_balanced.pkl\")\n",
        "print(\"✅ RandomForest model saved as randomforest_ids_model_balanced.pkl\")\n"
      ],
      "metadata": {
        "id": "WnGUCDSyC7O4",
        "colab": {
          "base_uri": "https://localhost:8080/"
        },
        "outputId": "86512e25-e6cc-4e7a-8a6f-873cc0bbc22d"
      },
      "execution_count": 30,
      "outputs": [
        {
          "output_type": "stream",
          "name": "stdout",
          "text": [
            " RandomForest Accuracy: 97.04%\n",
            " RandomForest Balanced Accuracy: 96.24%\n",
            " RandomForest F1-Score: 97.62%\n",
            "\n",
            "Classification Report:\n",
            "               precision    recall  f1-score   support\n",
            "\n",
            "           0       1.00      0.92      0.96     17147\n",
            "           1       0.95      1.00      0.98     26468\n",
            "\n",
            "    accuracy                           0.97     43615\n",
            "   macro avg       0.98      0.96      0.97     43615\n",
            "weighted avg       0.97      0.97      0.97     43615\n",
            "\n",
            "Confusion Matrix:\n",
            " [[15858  1289]\n",
            " [    0 26468]]\n",
            "✅ RandomForest model saved as randomforest_ids_model_balanced.pkl\n"
          ]
        }
      ]
    },
    {
      "cell_type": "markdown",
      "source": [
        "more tress(200),\n",
        "\n",
        " depth control,\n",
        "\n",
        "  class imbalace handling( prevents bias towards the majority class)"
      ],
      "metadata": {
        "id": "Gm6Q4puNSuzR"
      }
    },
    {
      "cell_type": "code",
      "source": [
        "# Cell 10: LightGBM training\n",
        "\n",
        "import lightgbm as lgb\n",
        "\n",
        "lgb_train = lgb.Dataset(X_train_scaled, label=y_train)\n",
        "lgb_test = lgb.Dataset(X_test_scaled, label=y_test, reference=lgb_train)\n",
        "\n",
        "params = {\n",
        "    'objective': 'binary',\n",
        "    'metric': 'binary_logloss',\n",
        "    'boosting_type': 'gbdt',\n",
        "    'num_leaves': 31,\n",
        "    'learning_rate': 0.05,\n",
        "    'feature_fraction': 0.8,\n",
        "    'bagging_fraction': 0.8,\n",
        "    'bagging_freq': 5,\n",
        "    'verbose': -1,\n",
        "    'random_state': 42\n",
        "}\n",
        "\n",
        "lgbm_model = lgb.train(\n",
        "    params,\n",
        "    lgb_train,\n",
        "    num_boost_round=200,\n",
        "    valid_sets=[lgb_train, lgb_test],\n",
        "    valid_names=['train','test'],\n",
        "    callbacks=[lgb.early_stopping(stopping_rounds=20, verbose=True)]\n",
        ")\n",
        "\n",
        "y_pred_prob = lgbm_model.predict(X_test_scaled, num_iteration=lgbm_model.best_iteration)\n",
        "y_pred = (y_pred_prob > 0.5).astype(int)\n",
        "\n",
        "accuracy = accuracy_score(y_test, y_pred) * 100\n",
        "balanced_acc = balanced_accuracy_score(y_test, y_pred) * 100\n",
        "f1 = f1_score(y_test, y_pred) * 100\n",
        "\n",
        "print(f\" LightGBM Accuracy: {accuracy:.2f}%\")\n",
        "print(f\" LightGBM Balanced Accuracy: {balanced_acc:.2f}%\")\n",
        "print(f\" LightGBM F1-Score: {f1:.2f}%\\n\")\n",
        "\n",
        "print(\"Classification Report:\\n\", classification_report(y_test, y_pred))\n",
        "print(\"Confusion Matrix:\\n\", confusion_matrix(y_test, y_pred))\n",
        "\n",
        "# Save model\n",
        "lgbm_model.save_model(\"lightgbm_ids_model_balanced.txt\")\n",
        "print(\"LightGBM model saved\")\n"
      ],
      "metadata": {
        "id": "VJdAtyiJ4rqe",
        "colab": {
          "base_uri": "https://localhost:8080/"
        },
        "outputId": "67f03674-4254-4317-a454-791c185a6847"
      },
      "execution_count": 31,
      "outputs": [
        {
          "output_type": "stream",
          "name": "stdout",
          "text": [
            "Training until validation scores don't improve for 20 rounds\n",
            "Early stopping, best iteration is:\n",
            "[77]\ttrain's binary_logloss: 0.00243362\ttest's binary_logloss: 0.157726\n",
            " LightGBM Accuracy: 97.04%\n",
            " LightGBM Balanced Accuracy: 96.24%\n",
            " LightGBM F1-Score: 97.62%\n",
            "\n",
            "Classification Report:\n",
            "               precision    recall  f1-score   support\n",
            "\n",
            "           0       1.00      0.92      0.96     17147\n",
            "           1       0.95      1.00      0.98     26468\n",
            "\n",
            "    accuracy                           0.97     43615\n",
            "   macro avg       0.98      0.96      0.97     43615\n",
            "weighted avg       0.97      0.97      0.97     43615\n",
            "\n",
            "Confusion Matrix:\n",
            " [[15858  1289]\n",
            " [    0 26468]]\n",
            "LightGBM model saved\n"
          ]
        }
      ]
    },
    {
      "cell_type": "markdown",
      "source": [
        "no leakage<br>\n",
        "balance matrix<br>\n",
        "early stopping- prevents overfitting<br>\n",
        "Hyperparameter Tuning- helps generalizw well\n"
      ],
      "metadata": {
        "id": "Hfmab3bTTinb"
      }
    },
    {
      "cell_type": "code",
      "source": [
        "# Isolation Forest Training and Visualization\n",
        "\n",
        "import numpy as np\n",
        "import matplotlib.pyplot as plt\n",
        "import seaborn as sns\n",
        "from sklearn.ensemble import IsolationForest\n",
        "from sklearn.decomposition import PCA\n",
        "from sklearn.metrics import f1_score, balanced_accuracy_score, confusion_matrix\n",
        "import joblib\n",
        "\n",
        "# 1. Train Isolation Forest\n",
        "iso_forest = IsolationForest(\n",
        "    n_estimators=200,\n",
        "    contamination=0.1,   # approximate anomaly fraction\n",
        "    random_state=42,\n",
        "    n_jobs=-1\n",
        ")\n",
        "\n",
        "# Train only on normal data\n",
        "X_train_normal = X_train_scaled[y_train == 0]\n",
        "iso_forest.fit(X_train_normal)\n",
        "\n",
        "# 2. Predict anomalies\n",
        "y_pred_raw = iso_forest.predict(X_test_scaled)       # -1 = anomaly, 1 = normal\n",
        "y_anomaly = np.where(y_pred_raw == -1, 1, 0)        # convert to 0=normal, 1=anomaly\n",
        "anomaly_scores = -iso_forest.decision_function(X_test_scaled)  # higher = more anomalous\n",
        "\n",
        "# 3. Save the model\n",
        "joblib.dump(iso_forest, \"isolation_forest_model.pkl\")\n",
        "print(\"Isolation Forest model saved.\")\n",
        "\n",
        "# 4. Evaluate metrics\n",
        "f1 = f1_score(y_test, y_anomaly)\n",
        "balanced_acc = balanced_accuracy_score(y_test, y_anomaly)\n",
        "print(f\"Isolation Forest F1-score: {f1*100:.2f}%\")\n",
        "print(f\"Balanced Accuracy: {balanced_acc*100:.2f}%\")"
      ],
      "metadata": {
        "id": "xDJPRE1FAeU5",
        "colab": {
          "base_uri": "https://localhost:8080/"
        },
        "outputId": "68969d1d-1d7c-4e0f-b354-99c5eb49db7e"
      },
      "execution_count": 32,
      "outputs": [
        {
          "output_type": "stream",
          "name": "stdout",
          "text": [
            "Isolation Forest model saved.\n",
            "Isolation Forest F1-score: 39.57%\n",
            "Balanced Accuracy: 61.76%\n"
          ]
        }
      ]
    },
    {
      "cell_type": "code",
      "source": [
        "# 5. Confusion Matrix\n",
        "cm = confusion_matrix(y_test, y_anomaly)\n",
        "plt.figure(figsize=(6,5))\n",
        "sns.heatmap(cm, annot=True, fmt=\"d\", cmap=\"Blues\",\n",
        "            xticklabels=['Normal','Anomaly'], yticklabels=['Normal','Anomaly'])\n",
        "plt.xlabel(\"Predicted\")\n",
        "plt.ylabel(\"Actual\")\n",
        "plt.title(\"Isolation Forest Confusion Matrix\")\n",
        "plt.show()\n",
        "\n",
        "# 6. Metrics Bar Chart\n",
        "metrics = {\"F1-score\": f1, \"Balanced Accuracy\": balanced_acc}\n",
        "plt.figure(figsize=(5,4))\n",
        "sns.barplot(x=list(metrics.keys()), y=list(metrics.values()))\n",
        "plt.ylim(0,1)\n",
        "plt.title(\"Isolation Forest Performance Metrics\")\n",
        "plt.ylabel(\"Score\")\n",
        "plt.show()\n",
        "\n"
      ],
      "metadata": {
        "colab": {
          "base_uri": "https://localhost:8080/",
          "height": 861
        },
        "id": "Dtu_176SqrTf",
        "outputId": "0dc48f77-1cfb-4ce0-f8c0-ad2b9a35269a"
      },
      "execution_count": 33,
      "outputs": [
        {
          "output_type": "display_data",
          "data": {
            "text/plain": [
              "<Figure size 600x500 with 2 Axes>"
            ],
            "image/png": "[encoded data removed]"
          },
          "metadata": {}
        },
        {
          "output_type": "display_data",
          "data": {
            "text/plain": [
              "<Figure size 500x400 with 1 Axes>"
            ],
            "image/png": "[encoded data removed]"
          },
          "metadata": {}
        }
      ]
    },
    {
      "cell_type": "markdown",
      "source": [
        "raw text- irrelevant<br>\n",
        "high leakage<br>\n",
        "missing values no scaling<br>\n"
      ],
      "metadata": {
        "id": "brd3fY6mUWbx"
      }
    },
    {
      "cell_type": "code",
      "source": [
        "# Unsupervised Model: Isolation Forest\n",
        "\n",
        "iso = IsolationForest(\n",
        "    n_estimators=300,\n",
        "    max_samples='auto',\n",
        "    contamination=0.2,  # adjust based on expected anomaly ratio\n",
        "    random_state=42\n",
        ")\n",
        "iso.fit(X_train_scaled)\n",
        "y_iso_pred = iso.predict(X_test_scaled)\n",
        "y_iso = np.where(y_iso_pred == 1, 0, 1)  # convert to 0=Normal, 1=Attack\n",
        "\n",
        "# Evaluate Isolation Forest\n",
        "accuracy_iso = accuracy_score(y_test, y_iso) * 100\n",
        "balanced_acc_iso = balanced_accuracy_score(y_test, y_iso) * 100\n",
        "f1_iso = f1_score(y_test, y_iso) * 100\n",
        "print(f\"\\n Isolation Forest Test Accuracy: {accuracy_iso:.2f}%\")\n",
        "print(f\" Isolation Forest Balanced Accuracy: {balanced_acc_iso:.2f}%\")\n",
        "print(f\" Isolation Forest F1-Score: {f1_iso:.2f}%\\n\")\n",
        "\n",
        "print(\"Isolation Forest Classification Report:\\n\", classification_report(y_test, y_iso))\n",
        "print(\"Isolation Forest Confusion Matrix:\\n\", confusion_matrix(y_test, y_iso))\n",
        "\n",
        "joblib.dump(iso, \"isolationforest_ids_model.pkl\")\n",
        "print(\"Isolation Forest model saved.\")\n"
      ],
      "metadata": {
        "id": "r06grRg-EE7X"
      },
      "execution_count": null,
      "outputs": []
    },
    {
      "cell_type": "markdown",
      "source": [
        "training on full data-<br>\n",
        "increased trees<br>\n",
        "scaling<br>\n",
        "label mapping"
      ],
      "metadata": {
        "id": "zk20-kSMU_jW"
      }
    },
    {
      "cell_type": "code",
      "source": [
        "# Unsupervised Model: Isolation Forest\n",
        "\n",
        "import numpy as np\n",
        "import matplotlib.pyplot as plt\n",
        "import seaborn as sns\n",
        "import joblib\n",
        "from sklearn.ensemble import IsolationForest\n",
        "from sklearn.metrics import accuracy_score, balanced_accuracy_score, f1_score, confusion_matrix, classification_report\n",
        "from sklearn.decomposition import PCA\n",
        "\n",
        "\n",
        "# 1. Train Isolation Forest\n",
        "iso = IsolationForest(\n",
        "    n_estimators=300,\n",
        "    max_samples='auto',\n",
        "    contamination=0.2,\n",
        "    random_state=42\n",
        ")\n",
        "iso.fit(X_train_scaled)\n",
        "\n",
        "\n",
        "# 2. Predict anomalies\n",
        "y_iso_pred = iso.predict(X_test_scaled)  # -1 = anomaly, 1 = normal\n",
        "y_iso = np.where(y_iso_pred == 1, 0, 1)\n",
        "\n",
        "# Anomaly scores for visualization\n",
        "anomaly_scores = -iso.decision_function(X_test_scaled)\n",
        "\n",
        "# 3. Evaluate the model\n",
        "accuracy_iso = accuracy_score(y_test, y_iso)\n",
        "balanced_acc_iso = balanced_accuracy_score(y_test, y_iso)\n",
        "f1_iso = f1_score(y_test, y_iso)\n",
        "\n",
        "print(f\"\\nIsolation Forest Test Accuracy: {accuracy_iso*100:.2f}%\")\n",
        "print(f\"Isolation Forest Balanced Accuracy: {balanced_acc_iso*100:.2f}%\")\n",
        "print(f\"Isolation Forest F1-Score: {f1_iso*100:.2f}%\\n\")\n",
        "\n",
        "print(\"Isolation Forest Classification Report:\\n\", classification_report(y_test, y_iso))\n",
        "print(\"Isolation Forest Confusion Matrix:\\n\", confusion_matrix(y_test, y_iso))\n",
        "\n",
        "# 4. Save the model\n",
        "joblib.dump(iso, \"isolationforest_ids_model.pkl\")\n",
        "print(\"Isolation Forest model saved.\")\n",
        "\n",
        "\n"
      ],
      "metadata": {
        "colab": {
          "base_uri": "https://localhost:8080/"
        },
        "id": "cyQ64vYlWjlL",
        "outputId": "a6546d54-1ce9-4264-82f0-a6e4d47eca7e"
      },
      "execution_count": 34,
      "outputs": [
        {
          "output_type": "stream",
          "name": "stdout",
          "text": [
            "\n",
            "Isolation Forest Test Accuracy: 15.21%\n",
            "Isolation Forest Balanced Accuracy: 14.85%\n",
            "Isolation Forest F1-Score: 19.14%\n",
            "\n",
            "Isolation Forest Classification Report:\n",
            "               precision    recall  f1-score   support\n",
            "\n",
            "           0       0.09      0.13      0.11     17147\n",
            "           1       0.23      0.17      0.19     26468\n",
            "\n",
            "    accuracy                           0.15     43615\n",
            "   macro avg       0.16      0.15      0.15     43615\n",
            "weighted avg       0.17      0.15      0.16     43615\n",
            "\n",
            "Isolation Forest Confusion Matrix:\n",
            " [[ 2256 14891]\n",
            " [22091  4377]]\n",
            "Isolation Forest model saved.\n"
          ]
        }
      ]
    },
    {
      "cell_type": "code",
      "source": [
        "# 5. Visualization Section\n",
        "\n",
        "\n",
        "\n",
        "# Metrics Bar Chart\n",
        "metrics = {\n",
        "    \"Accuracy\": accuracy_iso,\n",
        "    \"Balanced Accuracy\": balanced_acc_iso,\n",
        "    \"F1-Score\": f1_iso\n",
        "}\n",
        "plt.figure(figsize=(6,4))\n",
        "sns.barplot(x=list(metrics.keys()), y=list(metrics.values()))\n",
        "plt.ylim(0,1)\n",
        "plt.title(\"Isolation Forest Performance Metrics\")\n",
        "plt.ylabel(\"Score\")\n",
        "plt.show()\n",
        "\n",
        "# Histogram of Anomaly Scores\n",
        "plt.figure(figsize=(7,5))\n",
        "plt.hist(anomaly_scores[y_iso==0], bins=50, alpha=0.6, label='Normal')\n",
        "plt.hist(anomaly_scores[y_iso==1], bins=50, alpha=0.6, label='Attack', color='red')\n",
        "plt.title(\"Isolation Forest Anomaly Scores Distribution\")\n",
        "plt.xlabel(\"Anomaly Score\")\n",
        "plt.ylabel(\"Count\")\n",
        "plt.legend()\n",
        "plt.show()\n",
        "\n"
      ],
      "metadata": {
        "colab": {
          "base_uri": "https://localhost:8080/",
          "height": 861
        },
        "id": "fIEO7cHtW6nq",
        "outputId": "6fa15505-dae4-4cc5-97f6-bafea2fc776c"
      },
      "execution_count": 37,
      "outputs": [
        {
          "output_type": "display_data",
          "data": {
            "text/plain": [
              "<Figure size 600x400 with 1 Axes>"
            ],
            "image/png": "[encoded data removed]"
          },
          "metadata": {}
        },
        {
          "output_type": "display_data",
          "data": {
            "text/plain": [
              "<Figure size 700x500 with 1 Axes>"
            ],
            "image/png": "[encoded data removed]"
          },
          "metadata": {}
        }
      ]
    },
    {
      "cell_type": "code",
      "source": [
        "# Hybrid IDS: Supervised + Unsupervised\n",
        "\n",
        "from sklearn.ensemble import IsolationForest\n",
        "from sklearn.metrics import classification_report, confusion_matrix, accuracy_score, f1_score, balanced_accuracy_score\n",
        "import numpy as np\n",
        "import joblib\n",
        "\n",
        "# Load previously trained RandomForest\n",
        "rf = joblib.load(\"randomforest_ids_model_balanced.pkl\")\n",
        "\n",
        "#  Train Isolation Forest for anomaly detection\n",
        "iso = IsolationForest(\n",
        "    n_estimators=200,\n",
        "    max_samples='auto',\n",
        "    contamination=0.2,   # estimated fraction of anomalies\n",
        "    random_state=42,\n",
        "    n_jobs=-1\n",
        ")\n",
        "\n",
        "# Train on features of \"normal\" class only (label 0)\n",
        "X_train_normal = X_train_scaled[y_train == 0]\n",
        "iso.fit(X_train_normal)\n",
        "\n",
        "#Make predictions\n",
        "# Supervised predictions\n",
        "y_pred_supervised = rf.predict(X_test_scaled)\n",
        "\n",
        "# Unsupervised anomaly predictions (-1 = anomaly, 1 = normal)\n",
        "y_pred_unsupervised = iso.predict(X_test_scaled)\n",
        "y_pred_unsupervised = np.where(y_pred_unsupervised == -1, 1, 0)  # treat anomalies as \"attack\"\n",
        "\n",
        "#: Combine predictions for Hybrid IDS\n",
        "# If either model predicts attack, label as attack\n",
        "y_pred_hybrid = np.maximum(y_pred_supervised, y_pred_unsupervised)\n",
        "\n",
        "# : Evaluate Hybrid IDS\n",
        "accuracy = accuracy_score(y_test, y_pred_hybrid) * 100\n",
        "balanced_acc = balanced_accuracy_score(y_test, y_pred_hybrid) * 100\n",
        "f1 = f1_score(y_test, y_pred_hybrid) * 100\n",
        "\n",
        "print(f\" Hybrid IDS Accuracy: {accuracy:.2f}%\")\n",
        "print(f\" Hybrid IDS Balanced Accuracy: {balanced_acc:.2f}%\")\n",
        "print(f\" Hybrid IDS F1-Score: {f1:.2f}%\\n\")\n",
        "\n",
        "print(\"Classification Report:\\n\", classification_report(y_test, y_pred_hybrid))\n",
        "print(\"Confusion Matrix:\\n\", confusion_matrix(y_test, y_pred_hybrid))\n",
        "\n",
        "# : Save Hybrid predictions & model objects\n",
        "#\n",
        "joblib.dump(iso, \"isolationforest_ids_model.pkl\")\n",
        "np.save(\"y_pred_hybrid.npy\", y_pred_hybrid)\n",
        "print(\" Hybrid IDS pipeline complete. Models & predictions saved.\")\n"
      ],
      "metadata": {
        "id": "wAOAc7TKMKqb",
        "colab": {
          "base_uri": "https://localhost:8080/"
        },
        "outputId": "52ded193-a006-4838-fc42-05420a29a3bb"
      },
      "execution_count": 39,
      "outputs": [
        {
          "output_type": "stream",
          "name": "stdout",
          "text": [
            " Hybrid IDS Accuracy: 95.77%\n",
            " Hybrid IDS Balanced Accuracy: 94.62%\n",
            " Hybrid IDS F1-Score: 96.63%\n",
            "\n",
            "Classification Report:\n",
            "               precision    recall  f1-score   support\n",
            "\n",
            "           0       1.00      0.89      0.94     17147\n",
            "           1       0.93      1.00      0.97     26468\n",
            "\n",
            "    accuracy                           0.96     43615\n",
            "   macro avg       0.97      0.95      0.95     43615\n",
            "weighted avg       0.96      0.96      0.96     43615\n",
            "\n",
            "Confusion Matrix:\n",
            " [[15303  1844]\n",
            " [    0 26468]]\n",
            " Hybrid IDS pipeline complete. Models & predictions saved.\n"
          ]
        }
      ]
    },
    {
      "cell_type": "markdown",
      "source": [
        "Prediction:\n",
        "\n",
        "1 → normal, -1 → anomaly.\n",
        "\n",
        "Converted to 0=Normal, 1=Attack."
      ],
      "metadata": {
        "id": "tTSZgAacXWt6"
      }
    },
    {
      "cell_type": "code",
      "source": [
        "# Improved Hybrid IDS Training\n",
        "\n",
        "import numpy as np\n",
        "import pandas as pd\n",
        "from sklearn.ensemble import RandomForestClassifier, IsolationForest\n",
        "from sklearn.metrics import classification_report, confusion_matrix, accuracy_score, f1_score, balanced_accuracy_score\n",
        "from sklearn.preprocessing import StandardScaler\n",
        "from sklearn.linear_model import LogisticRegression\n",
        "from sklearn.decomposition import PCA\n",
        "import lightgbm as lgb\n",
        "import matplotlib.pyplot as plt\n",
        "import seaborn as sns\n",
        "import joblib\n",
        "\n",
        "# Feature Scaling\n",
        "scaler = StandardScaler()\n",
        "X_train_scaled = scaler.fit_transform(X_train)\n",
        "X_test_scaled = scaler.transform(X_test)\n",
        "joblib.dump(scaler, \"scaler.pkl\")\n",
        "print(\" Scaler saved\")\n",
        "\n",
        "#  Train Supervised Models\n",
        "\n",
        "# Random Forest\n",
        "rf = RandomForestClassifier(\n",
        "    n_estimators=200,\n",
        "    max_depth=20,\n",
        "    random_state=42,\n",
        "    n_jobs=-1,\n",
        "    class_weight='balanced'\n",
        ")\n",
        "rf.fit(X_train_scaled, y_train)\n",
        "y_rf_pred = rf.predict_proba(X_test_scaled)[:, 1]\n",
        "\n",
        "# LightGBM\n",
        "lgb_train = lgb.Dataset(X_train_scaled, label=y_train)\n",
        "lgb_test = lgb.Dataset(X_test_scaled, label=y_test, reference=lgb_train)\n",
        "\n",
        "params = {\n",
        "    'objective': 'binary',\n",
        "    'metric': 'binary_logloss',\n",
        "    'boosting_type': 'gbdt',\n",
        "    'num_leaves': 31,\n",
        "    'learning_rate': 0.05,\n",
        "    'feature_fraction': 0.8,\n",
        "    'bagging_fraction': 0.8,\n",
        "    'bagging_freq': 5,\n",
        "    'verbose': -1,\n",
        "    'random_state': 42\n",
        "}\n",
        "\n",
        "lgbm_model = lgb.train(\n",
        "    params,\n",
        "    lgb_train,\n",
        "    num_boost_round=300,\n",
        "    valid_sets=[lgb_train, lgb_test],\n",
        "    valid_names=['train', 'test'],\n",
        "    callbacks=[lgb.early_stopping(stopping_rounds=20, verbose=False)]\n",
        ")\n",
        "y_lgb_pred = lgbm_model.predict(X_test_scaled, num_iteration=lgbm_model.best_iteration)\n",
        "\n",
        "# Train Unsupervised Model\n",
        "iso_forest = IsolationForest(\n",
        "    n_estimators=300,\n",
        "    max_samples='auto',\n",
        "    contamination=0.25,\n",
        "    random_state=42,\n",
        "    n_jobs=-1\n",
        ")\n",
        "iso_forest.fit(X_train_scaled)\n",
        "y_iso_pred = iso_forest.predict(X_test_scaled)\n",
        "y_iso_pred = np.where(y_iso_pred == -1, 1, 0)\n",
        "\n",
        "#  Combine into Hybrid Model\n",
        "X_hybrid_train = np.column_stack([\n",
        "    rf.predict_proba(X_train_scaled)[:, 1],\n",
        "    lgbm_model.predict(X_train_scaled, num_iteration=lgbm_model.best_iteration),\n",
        "    np.where(iso_forest.predict(X_train_scaled) == -1, 1, 0)\n",
        "])\n",
        "X_hybrid_test = np.column_stack([y_rf_pred, y_lgb_pred, y_iso_pred])\n",
        "\n",
        "meta_clf = LogisticRegression(class_weight='balanced', random_state=42, max_iter=500)\n",
        "meta_clf.fit(X_hybrid_train, y_train)\n",
        "y_hybrid_pred = meta_clf.predict(X_hybrid_test)\n",
        "\n",
        "# Evaluation\n",
        "accuracy = accuracy_score(y_test, y_hybrid_pred) * 100\n",
        "balanced_acc = balanced_accuracy_score(y_test, y_hybrid_pred) * 100\n",
        "f1 = f1_score(y_test, y_hybrid_pred) * 100\n",
        "\n",
        "print(f\"\\nHybrid IDS Accuracy: {accuracy:.2f}%\")\n",
        "print(f\" Hybrid IDS Balanced Accuracy: {balanced_acc:.2f}%\")\n",
        "print(f\" Hybrid IDS F1-Score: {f1:.2f}%\\n\")\n",
        "print(\"Classification Report:\\n\", classification_report(y_test, y_hybrid_pred))\n",
        "print(\"Confusion Matrix:\\n\", confusion_matrix(y_test, y_hybrid_pred))\n",
        "\n",
        "#  Save Models\n",
        "joblib.dump(rf, \"rf_supervised.pkl\")\n",
        "lgbm_model.save_model(\"lgbm_supervised.txt\")\n",
        "joblib.dump(iso_forest, \"iso_forest_unsupervised.pkl\")\n",
        "joblib.dump(meta_clf, \"hybrid_meta.pkl\")\n",
        "print(\" All Hybrid IDS models saved\")\n",
        "\n"
      ],
      "metadata": {
        "colab": {
          "base_uri": "https://localhost:8080/"
        },
        "id": "D1T-Nj6hYpHB",
        "outputId": "7e9c5e78-fa77-4441-c983-be514e347d10"
      },
      "execution_count": 45,
      "outputs": [
        {
          "output_type": "stream",
          "name": "stdout",
          "text": [
            "✅ Scaler saved\n",
            "\n",
            "Hybrid IDS Accuracy: 97.04%\n",
            " Hybrid IDS Balanced Accuracy: 96.24%\n",
            " Hybrid IDS F1-Score: 97.62%\n",
            "\n",
            "Classification Report:\n",
            "               precision    recall  f1-score   support\n",
            "\n",
            "           0       1.00      0.92      0.96     17147\n",
            "           1       0.95      1.00      0.98     26468\n",
            "\n",
            "    accuracy                           0.97     43615\n",
            "   macro avg       0.98      0.96      0.97     43615\n",
            "weighted avg       0.97      0.97      0.97     43615\n",
            "\n",
            "Confusion Matrix:\n",
            " [[15858  1289]\n",
            " [    0 26468]]\n",
            "✅ All Hybrid IDS models saved\n"
          ]
        }
      ]
    },
    {
      "cell_type": "code",
      "source": [
        "# Visualization\n",
        "\n",
        "# Confusion Matrix\n",
        "plt.figure(figsize=(6,5))\n",
        "cm = confusion_matrix(y_test, y_hybrid_pred)\n",
        "sns.heatmap(cm, annot=True, fmt='d', cmap='Blues',\n",
        "            xticklabels=['Normal', 'Attack'],\n",
        "            yticklabels=['Normal', 'Attack'])\n",
        "plt.title(\"Hybrid IDS - Confusion Matrix\")\n",
        "plt.xlabel(\"Predicted\")\n",
        "plt.ylabel(\"Actual\")\n",
        "plt.show()\n",
        "\n",
        "# Performance Metrics\n",
        "metrics = {\"Accuracy\": accuracy/100, \"Balanced Accuracy\": balanced_acc/100, \"F1-Score\": f1/100}\n",
        "plt.figure(figsize=(6,4))\n",
        "sns.barplot(x=list(metrics.keys()), y=list(metrics.values()), palette=\"crest\")\n",
        "plt.ylim(0,1)\n",
        "plt.title(\"Hybrid IDS - Performance Metrics\")\n",
        "plt.ylabel(\"Score\")\n",
        "plt.show()\n",
        "\n",
        "# Model Comparison\n",
        "f1_rf = f1_score(y_test, np.where(y_rf_pred > 0.5, 1, 0))\n",
        "f1_lgb = f1_score(y_test, np.where(y_lgb_pred > 0.5, 1, 0))\n",
        "f1_iso = f1_score(y_test, y_iso_pred)\n",
        "f1_hybrid = f1_score(y_test, y_hybrid_pred)\n",
        "\n",
        "comparison = {\n",
        "    \"Random Forest\": f1_rf,\n",
        "    \"LightGBM\": f1_lgb,\n",
        "    \"Isolation Forest\": f1_iso,\n",
        "    \"Hybrid Meta Model\": f1_hybrid\n",
        "}\n",
        "plt.figure(figsize=(7,4))\n",
        "sns.barplot(x=list(comparison.keys()), y=list(comparison.values()), palette=\"coolwarm\")\n",
        "plt.ylim(0,1)\n",
        "plt.title(\"F1-Score Comparison: Individual vs Hybrid Models\")\n",
        "plt.ylabel(\"F1-Score\")\n",
        "plt.show()\n",
        "\n",
        "\n"
      ],
      "metadata": {
        "colab": {
          "base_uri": "https://localhost:8080/",
          "height": 1000
        },
        "id": "1sgtSUaYY1B3",
        "outputId": "7b9a3362-a083-4f22-d1f5-51c1efc6a380"
      },
      "execution_count": 46,
      "outputs": [
        {
          "output_type": "display_data",
          "data": {
            "text/plain": [
              "<Figure size 600x500 with 2 Axes>"
            ],
            "image/png": "[encoded data removed]"
          },
          "metadata": {}
        },
        {
          "output_type": "stream",
          "name": "stderr",
          "text": [
            "/tmp/ipython-input-3236360263.py:17: FutureWarning: \n",
            "\n",
            "Passing `palette` without assigning `hue` is deprecated and will be removed in v0.14.0. Assign the `x` variable to `hue` and set `legend=False` for the same effect.\n",
            "\n",
            "  sns.barplot(x=list(metrics.keys()), y=list(metrics.values()), palette=\"crest\")\n"
          ]
        },
        {
          "output_type": "display_data",
          "data": {
            "text/plain": [
              "<Figure size 600x400 with 1 Axes>"
            ],
            "image/png": "[encoded data removed]"
          },
          "metadata": {}
        },
        {
          "output_type": "stream",
          "name": "stderr",
          "text": [
            "/tmp/ipython-input-3236360263.py:36: FutureWarning: \n",
            "\n",
            "Passing `palette` without assigning `hue` is deprecated and will be removed in v0.14.0. Assign the `x` variable to `hue` and set `legend=False` for the same effect.\n",
            "\n",
            "  sns.barplot(x=list(comparison.keys()), y=list(comparison.values()), palette=\"coolwarm\")\n"
          ]
        },
        {
          "output_type": "display_data",
          "data": {
            "text/plain": [
              "<Figure size 700x400 with 1 Axes>"
            ],
            "image/png": "[encoded data removed]"
          },
          "metadata": {}
        }
      ]
    },
    {
      "cell_type": "markdown",
      "source": [
        "Feature Scaling\n"
      ],
      "metadata": {
        "id": "E77Z_qXzb-FD"
      }
    },
    {
      "cell_type": "markdown",
      "source": [],
      "metadata": {
        "id": "t4TrDwk7Xlch"
      }
    }
  ]
}