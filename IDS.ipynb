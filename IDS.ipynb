{
  "cells": [
    {
      "cell_type": "code",
      "execution_count": null,
      "metadata": {
        "colab": {
          "base_uri": "https://localhost:8080/"
        },
        "id": "vpCMwqYKo95l",
        "outputId": "ac9ae57a-f6e9-4e20-e8ec-6bd761a702cf"
      },
      "outputs": [
        {
          "name": "stdout",
          "output_type": "stream",
          "text": [
            "Requirement already satisfied: kaggle in /usr/local/lib/python3.12/dist-packages (1.7.4.5)\n",
            "Requirement already satisfied: bleach in /usr/local/lib/python3.12/dist-packages (from kaggle) (6.2.0)\n",
            "Requirement already satisfied: certifi>=14.05.14 in /usr/local/lib/python3.12/dist-packages (from kaggle) (2025.10.5)\n",
            "Requirement already satisfied: charset-normalizer in /usr/local/lib/python3.12/dist-packages (from kaggle) (3.4.3)\n",
            "Requirement already satisfied: idna in /usr/local/lib/python3.12/dist-packages (from kaggle) (3.10)\n",
            "Requirement already satisfied: protobuf in /usr/local/lib/python3.12/dist-packages (from kaggle) (5.29.5)\n",
            "Requirement already satisfied: python-dateutil>=2.5.3 in /usr/local/lib/python3.12/dist-packages (from kaggle) (2.9.0.post0)\n",
            "Requirement already satisfied: python-slugify in /usr/local/lib/python3.12/dist-packages (from kaggle) (8.0.4)\n",
            "Requirement already satisfied: requests in /usr/local/lib/python3.12/dist-packages (from kaggle) (2.32.4)\n",
            "Requirement already satisfied: setuptools>=21.0.0 in /usr/local/lib/python3.12/dist-packages (from kaggle) (75.2.0)\n",
            "Requirement already satisfied: six>=1.10 in /usr/local/lib/python3.12/dist-packages (from kaggle) (1.17.0)\n",
            "Requirement already satisfied: text-unidecode in /usr/local/lib/python3.12/dist-packages (from kaggle) (1.3)\n",
            "Requirement already satisfied: tqdm in /usr/local/lib/python3.12/dist-packages (from kaggle) (4.67.1)\n",
            "Requirement already satisfied: urllib3>=1.15.1 in /usr/local/lib/python3.12/dist-packages (from kaggle) (2.5.0)\n",
            "Requirement already satisfied: webencodings in /usr/local/lib/python3.12/dist-packages (from kaggle) (0.5.1)\n"
          ]
        }
      ],
      "source": [
        "!pip install kaggle\n"
      ]
    },
    {
      "cell_type": "code",
      "execution_count": null,
      "metadata": {
        "colab": {
          "base_uri": "https://localhost:8080/"
        },
        "id": "u_lqT-sfFW_u",
        "outputId": "eab6ad5d-e11a-433c-a1bf-faeb0a629eb7"
      },
      "outputs": [
        {
          "name": "stdout",
          "output_type": "stream",
          "text": [
            "Using Colab cache for faster access to the 'edgeiiotset-cyber-security-dataset-of-iot-iiot' dataset.\n",
            "Path to dataset files: /kaggle/input/edgeiiotset-cyber-security-dataset-of-iot-iiot\n"
          ]
        }
      ],
      "source": [
        "import kagglehub\n",
        "\n",
        "path = kagglehub.dataset_download(\"mohamedamineferrag/edgeiiotset-cyber-security-dataset-of-iot-iiot\")\n",
        "\n",
        "print(\"Path to dataset files:\", path)"
      ]
    },
    {
      "cell_type": "code",
      "execution_count": null,
      "metadata": {
        "colab": {
          "base_uri": "https://localhost:8080/"
        },
        "id": "_wzlsYrGGqPe",
        "outputId": "38bb8871-3896-46bc-a3d2-a2fbe300703f"
      },
      "outputs": [
        {
          "name": "stdout",
          "output_type": "stream",
          "text": [
            "Files inside subfolder: ['Edge_IIoTset__DatasetFL.pdf', 'Readme.txt', 'Edge-IIoTset dataset']\n"
          ]
        }
      ],
      "source": [
        "import os\n",
        "\n",
        "dataset_path = \"/kaggle/input/edgeiiotset-cyber-security-dataset-of-iot-iiot\"\n",
        "\n",
        "print(\"Files inside subfolder:\", os.listdir(dataset_path))"
      ]
    },
    {
      "cell_type": "code",
      "execution_count": null,
      "metadata": {
        "colab": {
          "base_uri": "https://localhost:8080/"
        },
        "id": "7fXjIUizGroC",
        "outputId": "1aa20d85-95f7-4dd0-bf1a-93eb039d56f2"
      },
      "outputs": [
        {
          "name": "stdout",
          "output_type": "stream",
          "text": [
            "Files inside ML folder: ['DNN-EdgeIIoT-dataset.csv', 'ML-EdgeIIoT-dataset.csv']\n"
          ]
        }
      ],
      "source": [
        "ml_path = dataset_path + \"/Selected dataset for ML and DL\"\n",
        "print(\"Files inside ML folder:\", os.listdir(ml_path))\n"
      ]
    },
    {
      "cell_type": "code",
      "execution_count": null,
      "metadata": {
        "colab": {
          "base_uri": "https://localhost:8080/",
          "height": 1000
        },
        "id": "qyIPxID_LTex",
        "outputId": "6b8aca40-ad33-4bbe-ed46-c40a84c40b0a"
      },
      "outputs": [
        {
          "name": "stderr",
          "output_type": "stream",
          "text": [
            "/tmp/ipython-input-1567983866.py:9: DtypeWarning: Columns (3,6,11,13,14,15,16,17,31,32,34,39,45,51,54,55) have mixed types. Specify dtype option on import or set low_memory=False.\n",
            "  df = pd.read_csv(os.path.join(ml_path, csv_file))\n"
          ]
        },
        {
          "name": "stdout",
          "output_type": "stream",
          "text": [
            "Dataset shape: (157800, 63)\n"
          ]
        },
        {
          "data": {
            "application/vnd.google.colaboratory.intrinsic+json": {
              "type": "dataframe"
            },
            "text/html": [
              "\n",
              "  <div id=\"df-0c3d13ac-5a7e-4829-ae7b-f5dcb6b8c691\" class=\"colab-df-container\">\n",
              "    <div>\n",
              "<style scoped>\n",
              "    .dataframe tbody tr th:only-of-type {\n",
              "        vertical-align: middle;\n",
              "    }\n",
              "\n",
              "    .dataframe tbody tr th {\n",
              "        vertical-align: top;\n",
              "    }\n",
              "\n",
              "    .dataframe thead th {\n",
              "        text-align: right;\n",
              "    }\n",
              "</style>\n",
              "<table border=\"1\" class=\"dataframe\">\n",
              "  <thead>\n",
              "    <tr style=\"text-align: right;\">\n",
              "      <th></th>\n",
              "      <th>frame.time</th>\n",
              "      <th>ip.src_host</th>\n",
              "      <th>ip.dst_host</th>\n",
              "      <th>arp.dst.proto_ipv4</th>\n",
              "      <th>arp.opcode</th>\n",
              "      <th>arp.hw.size</th>\n",
              "      <th>arp.src.proto_ipv4</th>\n",
              "      <th>icmp.checksum</th>\n",
              "      <th>icmp.seq_le</th>\n",
              "      <th>icmp.transmit_timestamp</th>\n",
              "      <th>icmp.unused</th>\n",
              "      <th>http.file_data</th>\n",
              "      <th>http.content_length</th>\n",
              "      <th>http.request.uri.query</th>\n",
              "      <th>http.request.method</th>\n",
              "      <th>http.referer</th>\n",
              "      <th>http.request.full_uri</th>\n",
              "      <th>http.request.version</th>\n",
              "      <th>http.response</th>\n",
              "      <th>http.tls_port</th>\n",
              "      <th>tcp.ack</th>\n",
              "      <th>tcp.ack_raw</th>\n",
              "      <th>tcp.checksum</th>\n",
              "      <th>tcp.connection.fin</th>\n",
              "      <th>tcp.connection.rst</th>\n",
              "      <th>tcp.connection.syn</th>\n",
              "      <th>tcp.connection.synack</th>\n",
              "      <th>tcp.dstport</th>\n",
              "      <th>tcp.flags</th>\n",
              "      <th>tcp.flags.ack</th>\n",
              "      <th>tcp.len</th>\n",
              "      <th>tcp.options</th>\n",
              "      <th>tcp.payload</th>\n",
              "      <th>tcp.seq</th>\n",
              "      <th>tcp.srcport</th>\n",
              "      <th>udp.port</th>\n",
              "      <th>udp.stream</th>\n",
              "      <th>udp.time_delta</th>\n",
              "      <th>dns.qry.name</th>\n",
              "      <th>dns.qry.name.len</th>\n",
              "      <th>dns.qry.qu</th>\n",
              "      <th>dns.qry.type</th>\n",
              "      <th>dns.retransmission</th>\n",
              "      <th>dns.retransmit_request</th>\n",
              "      <th>dns.retransmit_request_in</th>\n",
              "      <th>mqtt.conack.flags</th>\n",
              "      <th>mqtt.conflag.cleansess</th>\n",
              "      <th>mqtt.conflags</th>\n",
              "      <th>mqtt.hdrflags</th>\n",
              "      <th>mqtt.len</th>\n",
              "      <th>mqtt.msg_decoded_as</th>\n",
              "      <th>mqtt.msg</th>\n",
              "      <th>mqtt.msgtype</th>\n",
              "      <th>mqtt.proto_len</th>\n",
              "      <th>mqtt.protoname</th>\n",
              "      <th>mqtt.topic</th>\n",
              "      <th>mqtt.topic_len</th>\n",
              "      <th>mqtt.ver</th>\n",
              "      <th>mbtcp.len</th>\n",
              "      <th>mbtcp.trans_id</th>\n",
              "      <th>mbtcp.unit_id</th>\n",
              "      <th>Attack_label</th>\n",
              "      <th>Attack_type</th>\n",
              "    </tr>\n",
              "  </thead>\n",
              "  <tbody>\n",
              "    <tr>\n",
              "      <th>0</th>\n",
              "      <td>6.0</td>\n",
              "      <td>192.168.0.152</td>\n",
              "      <td>0.0</td>\n",
              "      <td>0.0</td>\n",
              "      <td>0.0</td>\n",
              "      <td>0.0</td>\n",
              "      <td>0.0</td>\n",
              "      <td>0.0</td>\n",
              "      <td>0.0</td>\n",
              "      <td>0.0</td>\n",
              "      <td>0.0</td>\n",
              "      <td>0.0</td>\n",
              "      <td>0.0</td>\n",
              "      <td>0.0</td>\n",
              "      <td>0.0</td>\n",
              "      <td>0.0</td>\n",
              "      <td>0.0</td>\n",
              "      <td>0</td>\n",
              "      <td>0.0</td>\n",
              "      <td>0.0</td>\n",
              "      <td>0.0</td>\n",
              "      <td>0.0</td>\n",
              "      <td>0.0</td>\n",
              "      <td>0.0</td>\n",
              "      <td>0.0</td>\n",
              "      <td>0.0</td>\n",
              "      <td>0.0</td>\n",
              "      <td>0.0</td>\n",
              "      <td>0.0</td>\n",
              "      <td>0.0</td>\n",
              "      <td>0.0</td>\n",
              "      <td>0.0</td>\n",
              "      <td>0.0</td>\n",
              "      <td>0.0</td>\n",
              "      <td>0</td>\n",
              "      <td>0.0</td>\n",
              "      <td>0.0</td>\n",
              "      <td>0.0</td>\n",
              "      <td>0.0</td>\n",
              "      <td>0.0</td>\n",
              "      <td>0.0</td>\n",
              "      <td>0.0</td>\n",
              "      <td>0.0</td>\n",
              "      <td>0.0</td>\n",
              "      <td>0.0</td>\n",
              "      <td>0.0</td>\n",
              "      <td>0.0</td>\n",
              "      <td>0.0</td>\n",
              "      <td>0.0</td>\n",
              "      <td>0.0</td>\n",
              "      <td>0.0</td>\n",
              "      <td>0.0</td>\n",
              "      <td>0.0</td>\n",
              "      <td>0.0</td>\n",
              "      <td>0.0</td>\n",
              "      <td>0.0</td>\n",
              "      <td>0.0</td>\n",
              "      <td>0.0</td>\n",
              "      <td>0.0</td>\n",
              "      <td>0.0</td>\n",
              "      <td>0.0</td>\n",
              "      <td>1</td>\n",
              "      <td>MITM</td>\n",
              "    </tr>\n",
              "    <tr>\n",
              "      <th>1</th>\n",
              "      <td>6.0</td>\n",
              "      <td>192.168.0.101</td>\n",
              "      <td>0.0</td>\n",
              "      <td>0.0</td>\n",
              "      <td>0.0</td>\n",
              "      <td>0.0</td>\n",
              "      <td>0.0</td>\n",
              "      <td>0.0</td>\n",
              "      <td>0.0</td>\n",
              "      <td>0.0</td>\n",
              "      <td>0.0</td>\n",
              "      <td>0.0</td>\n",
              "      <td>0.0</td>\n",
              "      <td>0.0</td>\n",
              "      <td>0.0</td>\n",
              "      <td>0.0</td>\n",
              "      <td>0.0</td>\n",
              "      <td>0</td>\n",
              "      <td>0.0</td>\n",
              "      <td>0.0</td>\n",
              "      <td>0.0</td>\n",
              "      <td>0.0</td>\n",
              "      <td>0.0</td>\n",
              "      <td>0.0</td>\n",
              "      <td>0.0</td>\n",
              "      <td>0.0</td>\n",
              "      <td>0.0</td>\n",
              "      <td>0.0</td>\n",
              "      <td>0.0</td>\n",
              "      <td>0.0</td>\n",
              "      <td>0.0</td>\n",
              "      <td>0.0</td>\n",
              "      <td>0.0</td>\n",
              "      <td>0.0</td>\n",
              "      <td>0</td>\n",
              "      <td>0.0</td>\n",
              "      <td>0.0</td>\n",
              "      <td>0.0</td>\n",
              "      <td>0.0</td>\n",
              "      <td>0.0</td>\n",
              "      <td>0.0</td>\n",
              "      <td>0.0</td>\n",
              "      <td>0.0</td>\n",
              "      <td>0.0</td>\n",
              "      <td>0.0</td>\n",
              "      <td>0.0</td>\n",
              "      <td>0.0</td>\n",
              "      <td>0.0</td>\n",
              "      <td>0.0</td>\n",
              "      <td>0.0</td>\n",
              "      <td>0.0</td>\n",
              "      <td>0.0</td>\n",
              "      <td>0.0</td>\n",
              "      <td>0.0</td>\n",
              "      <td>0.0</td>\n",
              "      <td>0.0</td>\n",
              "      <td>0.0</td>\n",
              "      <td>0.0</td>\n",
              "      <td>0.0</td>\n",
              "      <td>0.0</td>\n",
              "      <td>0.0</td>\n",
              "      <td>1</td>\n",
              "      <td>MITM</td>\n",
              "    </tr>\n",
              "    <tr>\n",
              "      <th>2</th>\n",
              "      <td>6.0</td>\n",
              "      <td>192.168.0.152</td>\n",
              "      <td>0.0</td>\n",
              "      <td>0.0</td>\n",
              "      <td>0.0</td>\n",
              "      <td>0.0</td>\n",
              "      <td>0.0</td>\n",
              "      <td>0.0</td>\n",
              "      <td>0.0</td>\n",
              "      <td>0.0</td>\n",
              "      <td>0.0</td>\n",
              "      <td>0.0</td>\n",
              "      <td>0.0</td>\n",
              "      <td>0.0</td>\n",
              "      <td>0.0</td>\n",
              "      <td>0.0</td>\n",
              "      <td>0.0</td>\n",
              "      <td>0</td>\n",
              "      <td>0.0</td>\n",
              "      <td>0.0</td>\n",
              "      <td>0.0</td>\n",
              "      <td>0.0</td>\n",
              "      <td>0.0</td>\n",
              "      <td>0.0</td>\n",
              "      <td>0.0</td>\n",
              "      <td>0.0</td>\n",
              "      <td>0.0</td>\n",
              "      <td>0.0</td>\n",
              "      <td>0.0</td>\n",
              "      <td>0.0</td>\n",
              "      <td>0.0</td>\n",
              "      <td>0.0</td>\n",
              "      <td>0.0</td>\n",
              "      <td>0.0</td>\n",
              "      <td>0</td>\n",
              "      <td>0.0</td>\n",
              "      <td>0.0</td>\n",
              "      <td>0.0</td>\n",
              "      <td>0.0</td>\n",
              "      <td>0.0</td>\n",
              "      <td>0.0</td>\n",
              "      <td>0.0</td>\n",
              "      <td>0.0</td>\n",
              "      <td>0.0</td>\n",
              "      <td>0.0</td>\n",
              "      <td>0.0</td>\n",
              "      <td>0.0</td>\n",
              "      <td>0.0</td>\n",
              "      <td>0.0</td>\n",
              "      <td>0.0</td>\n",
              "      <td>0.0</td>\n",
              "      <td>0.0</td>\n",
              "      <td>0.0</td>\n",
              "      <td>0.0</td>\n",
              "      <td>0.0</td>\n",
              "      <td>0.0</td>\n",
              "      <td>0.0</td>\n",
              "      <td>0.0</td>\n",
              "      <td>0.0</td>\n",
              "      <td>0.0</td>\n",
              "      <td>0.0</td>\n",
              "      <td>1</td>\n",
              "      <td>MITM</td>\n",
              "    </tr>\n",
              "    <tr>\n",
              "      <th>3</th>\n",
              "      <td>6.0</td>\n",
              "      <td>192.168.0.101</td>\n",
              "      <td>0.0</td>\n",
              "      <td>0.0</td>\n",
              "      <td>0.0</td>\n",
              "      <td>0.0</td>\n",
              "      <td>0.0</td>\n",
              "      <td>0.0</td>\n",
              "      <td>0.0</td>\n",
              "      <td>0.0</td>\n",
              "      <td>0.0</td>\n",
              "      <td>0.0</td>\n",
              "      <td>0.0</td>\n",
              "      <td>0.0</td>\n",
              "      <td>0.0</td>\n",
              "      <td>0.0</td>\n",
              "      <td>0.0</td>\n",
              "      <td>0</td>\n",
              "      <td>0.0</td>\n",
              "      <td>0.0</td>\n",
              "      <td>0.0</td>\n",
              "      <td>0.0</td>\n",
              "      <td>0.0</td>\n",
              "      <td>0.0</td>\n",
              "      <td>0.0</td>\n",
              "      <td>0.0</td>\n",
              "      <td>0.0</td>\n",
              "      <td>0.0</td>\n",
              "      <td>0.0</td>\n",
              "      <td>0.0</td>\n",
              "      <td>0.0</td>\n",
              "      <td>0.0</td>\n",
              "      <td>0.0</td>\n",
              "      <td>0.0</td>\n",
              "      <td>0</td>\n",
              "      <td>0.0</td>\n",
              "      <td>0.0</td>\n",
              "      <td>0.0</td>\n",
              "      <td>0.0</td>\n",
              "      <td>0.0</td>\n",
              "      <td>0.0</td>\n",
              "      <td>0.0</td>\n",
              "      <td>0.0</td>\n",
              "      <td>0.0</td>\n",
              "      <td>0.0</td>\n",
              "      <td>0.0</td>\n",
              "      <td>0.0</td>\n",
              "      <td>0.0</td>\n",
              "      <td>0.0</td>\n",
              "      <td>0.0</td>\n",
              "      <td>0.0</td>\n",
              "      <td>0.0</td>\n",
              "      <td>0.0</td>\n",
              "      <td>0.0</td>\n",
              "      <td>0.0</td>\n",
              "      <td>0.0</td>\n",
              "      <td>0.0</td>\n",
              "      <td>0.0</td>\n",
              "      <td>0.0</td>\n",
              "      <td>0.0</td>\n",
              "      <td>0.0</td>\n",
              "      <td>1</td>\n",
              "      <td>MITM</td>\n",
              "    </tr>\n",
              "    <tr>\n",
              "      <th>4</th>\n",
              "      <td>6.0</td>\n",
              "      <td>192.168.0.152</td>\n",
              "      <td>0.0</td>\n",
              "      <td>0.0</td>\n",
              "      <td>0.0</td>\n",
              "      <td>0.0</td>\n",
              "      <td>0.0</td>\n",
              "      <td>0.0</td>\n",
              "      <td>0.0</td>\n",
              "      <td>0.0</td>\n",
              "      <td>0.0</td>\n",
              "      <td>0.0</td>\n",
              "      <td>0.0</td>\n",
              "      <td>0.0</td>\n",
              "      <td>0.0</td>\n",
              "      <td>0.0</td>\n",
              "      <td>0.0</td>\n",
              "      <td>0</td>\n",
              "      <td>0.0</td>\n",
              "      <td>0.0</td>\n",
              "      <td>0.0</td>\n",
              "      <td>0.0</td>\n",
              "      <td>0.0</td>\n",
              "      <td>0.0</td>\n",
              "      <td>0.0</td>\n",
              "      <td>0.0</td>\n",
              "      <td>0.0</td>\n",
              "      <td>0.0</td>\n",
              "      <td>0.0</td>\n",
              "      <td>0.0</td>\n",
              "      <td>0.0</td>\n",
              "      <td>0.0</td>\n",
              "      <td>0.0</td>\n",
              "      <td>0.0</td>\n",
              "      <td>0</td>\n",
              "      <td>0.0</td>\n",
              "      <td>0.0</td>\n",
              "      <td>0.0</td>\n",
              "      <td>0.0</td>\n",
              "      <td>0.0</td>\n",
              "      <td>0.0</td>\n",
              "      <td>0.0</td>\n",
              "      <td>0.0</td>\n",
              "      <td>0.0</td>\n",
              "      <td>0.0</td>\n",
              "      <td>0.0</td>\n",
              "      <td>0.0</td>\n",
              "      <td>0.0</td>\n",
              "      <td>0.0</td>\n",
              "      <td>0.0</td>\n",
              "      <td>0.0</td>\n",
              "      <td>0.0</td>\n",
              "      <td>0.0</td>\n",
              "      <td>0.0</td>\n",
              "      <td>0.0</td>\n",
              "      <td>0.0</td>\n",
              "      <td>0.0</td>\n",
              "      <td>0.0</td>\n",
              "      <td>0.0</td>\n",
              "      <td>0.0</td>\n",
              "      <td>0.0</td>\n",
              "      <td>1</td>\n",
              "      <td>MITM</td>\n",
              "    </tr>\n",
              "  </tbody>\n",
              "</table>\n",
              "</div>\n",
              "    <div class=\"colab-df-buttons\">\n",
              "\n",
              "  <div class=\"colab-df-container\">\n",
              "    <button class=\"colab-df-convert\" onclick=\"convertToInteractive('df-0c3d13ac-5a7e-4829-ae7b-f5dcb6b8c691')\"\n",
              "            title=\"Convert this dataframe to an interactive table.\"\n",
              "            style=\"display:none;\">\n",
              "\n",
              "  <svg xmlns=\"http://www.w3.org/2000/svg\" height=\"24px\" viewBox=\"0 -960 960 960\">\n",
              "    <path d=\"M120-120v-720h720v720H120Zm60-500h600v-160H180v160Zm220 220h160v-160H400v160Zm0 220h160v-160H400v160ZM180-400h160v-160H180v160Zm440 0h160v-160H620v160ZM180-180h160v-160H180v160Zm440 0h160v-160H620v160Z\"/>\n",
              "  </svg>\n",
              "    </button>\n",
              "\n",
              "  <style>\n",
              "    .colab-df-container {\n",
              "      display:flex;\n",
              "      gap: 12px;\n",
              "    }\n",
              "\n",
              "    .colab-df-convert {\n",
              "      background-color: #E8F0FE;\n",
              "      border: none;\n",
              "      border-radius: 50%;\n",
              "      cursor: pointer;\n",
              "      display: none;\n",
              "      fill: #1967D2;\n",
              "      height: 32px;\n",
              "      padding: 0 0 0 0;\n",
              "      width: 32px;\n",
              "    }\n",
              "\n",
              "    .colab-df-convert:hover {\n",
              "      background-color: #E2EBFA;\n",
              "      box-shadow: 0px 1px 2px rgba(60, 64, 67, 0.3), 0px 1px 3px 1px rgba(60, 64, 67, 0.15);\n",
              "      fill: #174EA6;\n",
              "    }\n",
              "\n",
              "    .colab-df-buttons div {\n",
              "      margin-bottom: 4px;\n",
              "    }\n",
              "\n",
              "    [theme=dark] .colab-df-convert {\n",
              "      background-color: #3B4455;\n",
              "      fill: #D2E3FC;\n",
              "    }\n",
              "\n",
              "    [theme=dark] .colab-df-convert:hover {\n",
              "      background-color: #434B5C;\n",
              "      box-shadow: 0px 1px 3px 1px rgba(0, 0, 0, 0.15);\n",
              "      filter: drop-shadow(0px 1px 2px rgba(0, 0, 0, 0.3));\n",
              "      fill: #FFFFFF;\n",
              "    }\n",
              "  </style>\n",
              "\n",
              "    <script>\n",
              "      const buttonEl =\n",
              "        document.querySelector('#df-0c3d13ac-5a7e-4829-ae7b-f5dcb6b8c691 button.colab-df-convert');\n",
              "      buttonEl.style.display =\n",
              "        google.colab.kernel.accessAllowed ? 'block' : 'none';\n",
              "\n",
              "      async function convertToInteractive(key) {\n",
              "        const element = document.querySelector('#df-0c3d13ac-5a7e-4829-ae7b-f5dcb6b8c691');\n",
              "        const dataTable =\n",
              "          await google.colab.kernel.invokeFunction('convertToInteractive',\n",
              "                                                    [key], {});\n",
              "        if (!dataTable) return;\n",
              "\n",
              "        const docLinkHtml = 'Like what you see? Visit the ' +\n",
              "          '<a target=\"_blank\" href=https://colab.research.google.com/notebooks/data_table.ipynb>data table notebook</a>'\n",
              "          + ' to learn more about interactive tables.';\n",
              "        element.innerHTML = '';\n",
              "        dataTable['output_type'] = 'display_data';\n",
              "        await google.colab.output.renderOutput(dataTable, element);\n",
              "        const docLink = document.createElement('div');\n",
              "        docLink.innerHTML = docLinkHtml;\n",
              "        element.appendChild(docLink);\n",
              "      }\n",
              "    </script>\n",
              "  </div>\n",
              "\n",
              "\n",
              "    <div id=\"df-1f2e893c-40da-4e37-8ba5-339c1e818eaf\">\n",
              "      <button class=\"colab-df-quickchart\" onclick=\"quickchart('df-1f2e893c-40da-4e37-8ba5-339c1e818eaf')\"\n",
              "                title=\"Suggest charts\"\n",
              "                style=\"display:none;\">\n",
              "\n",
              "<svg xmlns=\"http://www.w3.org/2000/svg\" height=\"24px\"viewBox=\"0 0 24 24\"\n",
              "     width=\"24px\">\n",
              "    <g>\n",
              "        <path d=\"M19 3H5c-1.1 0-2 .9-2 2v14c0 1.1.9 2 2 2h14c1.1 0 2-.9 2-2V5c0-1.1-.9-2-2-2zM9 17H7v-7h2v7zm4 0h-2V7h2v10zm4 0h-2v-4h2v4z\"/>\n",
              "    </g>\n",
              "</svg>\n",
              "      </button>\n",
              "\n",
              "<style>\n",
              "  .colab-df-quickchart {\n",
              "      --bg-color: #E8F0FE;\n",
              "      --fill-color: #1967D2;\n",
              "      --hover-bg-color: #E2EBFA;\n",
              "      --hover-fill-color: #174EA6;\n",
              "      --disabled-fill-color: #AAA;\n",
              "      --disabled-bg-color: #DDD;\n",
              "  }\n",
              "\n",
              "  [theme=dark] .colab-df-quickchart {\n",
              "      --bg-color: #3B4455;\n",
              "      --fill-color: #D2E3FC;\n",
              "      --hover-bg-color: #434B5C;\n",
              "      --hover-fill-color: #FFFFFF;\n",
              "      --disabled-bg-color: #3B4455;\n",
              "      --disabled-fill-color: #666;\n",
              "  }\n",
              "\n",
              "  .colab-df-quickchart {\n",
              "    background-color: var(--bg-color);\n",
              "    border: none;\n",
              "    border-radius: 50%;\n",
              "    cursor: pointer;\n",
              "    display: none;\n",
              "    fill: var(--fill-color);\n",
              "    height: 32px;\n",
              "    padding: 0;\n",
              "    width: 32px;\n",
              "  }\n",
              "\n",
              "  .colab-df-quickchart:hover {\n",
              "    background-color: var(--hover-bg-color);\n",
              "    box-shadow: 0 1px 2px rgba(60, 64, 67, 0.3), 0 1px 3px 1px rgba(60, 64, 67, 0.15);\n",
              "    fill: var(--button-hover-fill-color);\n",
              "  }\n",
              "\n",
              "  .colab-df-quickchart-complete:disabled,\n",
              "  .colab-df-quickchart-complete:disabled:hover {\n",
              "    background-color: var(--disabled-bg-color);\n",
              "    fill: var(--disabled-fill-color);\n",
              "    box-shadow: none;\n",
              "  }\n",
              "\n",
              "  .colab-df-spinner {\n",
              "    border: 2px solid var(--fill-color);\n",
              "    border-color: transparent;\n",
              "    border-bottom-color: var(--fill-color);\n",
              "    animation:\n",
              "      spin 1s steps(1) infinite;\n",
              "  }\n",
              "\n",
              "  @keyframes spin {\n",
              "    0% {\n",
              "      border-color: transparent;\n",
              "      border-bottom-color: var(--fill-color);\n",
              "      border-left-color: var(--fill-color);\n",
              "    }\n",
              "    20% {\n",
              "      border-color: transparent;\n",
              "      border-left-color: var(--fill-color);\n",
              "      border-top-color: var(--fill-color);\n",
              "    }\n",
              "    30% {\n",
              "      border-color: transparent;\n",
              "      border-left-color: var(--fill-color);\n",
              "      border-top-color: var(--fill-color);\n",
              "      border-right-color: var(--fill-color);\n",
              "    }\n",
              "    40% {\n",
              "      border-color: transparent;\n",
              "      border-right-color: var(--fill-color);\n",
              "      border-top-color: var(--fill-color);\n",
              "    }\n",
              "    60% {\n",
              "      border-color: transparent;\n",
              "      border-right-color: var(--fill-color);\n",
              "    }\n",
              "    80% {\n",
              "      border-color: transparent;\n",
              "      border-right-color: var(--fill-color);\n",
              "      border-bottom-color: var(--fill-color);\n",
              "    }\n",
              "    90% {\n",
              "      border-color: transparent;\n",
              "      border-bottom-color: var(--fill-color);\n",
              "    }\n",
              "  }\n",
              "</style>\n",
              "\n",
              "      <script>\n",
              "        async function quickchart(key) {\n",
              "          const quickchartButtonEl =\n",
              "            document.querySelector('#' + key + ' button');\n",
              "          quickchartButtonEl.disabled = true;  // To prevent multiple clicks.\n",
              "          quickchartButtonEl.classList.add('colab-df-spinner');\n",
              "          try {\n",
              "            const charts = await google.colab.kernel.invokeFunction(\n",
              "                'suggestCharts', [key], {});\n",
              "          } catch (error) {\n",
              "            console.error('Error during call to suggestCharts:', error);\n",
              "          }\n",
              "          quickchartButtonEl.classList.remove('colab-df-spinner');\n",
              "          quickchartButtonEl.classList.add('colab-df-quickchart-complete');\n",
              "        }\n",
              "        (() => {\n",
              "          let quickchartButtonEl =\n",
              "            document.querySelector('#df-1f2e893c-40da-4e37-8ba5-339c1e818eaf button');\n",
              "          quickchartButtonEl.style.display =\n",
              "            google.colab.kernel.accessAllowed ? 'block' : 'none';\n",
              "        })();\n",
              "      </script>\n",
              "    </div>\n",
              "\n",
              "    </div>\n",
              "  </div>\n"
            ],
            "text/plain": [
              "  frame.time    ip.src_host ip.dst_host arp.dst.proto_ipv4  arp.opcode  \\\n",
              "0        6.0  192.168.0.152         0.0                0.0         0.0   \n",
              "1        6.0  192.168.0.101         0.0                0.0         0.0   \n",
              "2        6.0  192.168.0.152         0.0                0.0         0.0   \n",
              "3        6.0  192.168.0.101         0.0                0.0         0.0   \n",
              "4        6.0  192.168.0.152         0.0                0.0         0.0   \n",
              "\n",
              "   arp.hw.size arp.src.proto_ipv4  icmp.checksum  icmp.seq_le  \\\n",
              "0          0.0                0.0            0.0          0.0   \n",
              "1          0.0                0.0            0.0          0.0   \n",
              "2          0.0                0.0            0.0          0.0   \n",
              "3          0.0                0.0            0.0          0.0   \n",
              "4          0.0                0.0            0.0          0.0   \n",
              "\n",
              "   icmp.transmit_timestamp  icmp.unused http.file_data  http.content_length  \\\n",
              "0                      0.0          0.0            0.0                  0.0   \n",
              "1                      0.0          0.0            0.0                  0.0   \n",
              "2                      0.0          0.0            0.0                  0.0   \n",
              "3                      0.0          0.0            0.0                  0.0   \n",
              "4                      0.0          0.0            0.0                  0.0   \n",
              "\n",
              "  http.request.uri.query http.request.method http.referer  \\\n",
              "0                    0.0                 0.0          0.0   \n",
              "1                    0.0                 0.0          0.0   \n",
              "2                    0.0                 0.0          0.0   \n",
              "3                    0.0                 0.0          0.0   \n",
              "4                    0.0                 0.0          0.0   \n",
              "\n",
              "  http.request.full_uri http.request.version  http.response  http.tls_port  \\\n",
              "0                   0.0                    0            0.0            0.0   \n",
              "1                   0.0                    0            0.0            0.0   \n",
              "2                   0.0                    0            0.0            0.0   \n",
              "3                   0.0                    0            0.0            0.0   \n",
              "4                   0.0                    0            0.0            0.0   \n",
              "\n",
              "   tcp.ack  tcp.ack_raw  tcp.checksum  tcp.connection.fin  tcp.connection.rst  \\\n",
              "0      0.0          0.0           0.0                 0.0                 0.0   \n",
              "1      0.0          0.0           0.0                 0.0                 0.0   \n",
              "2      0.0          0.0           0.0                 0.0                 0.0   \n",
              "3      0.0          0.0           0.0                 0.0                 0.0   \n",
              "4      0.0          0.0           0.0                 0.0                 0.0   \n",
              "\n",
              "   tcp.connection.syn  tcp.connection.synack  tcp.dstport  tcp.flags  \\\n",
              "0                 0.0                    0.0          0.0        0.0   \n",
              "1                 0.0                    0.0          0.0        0.0   \n",
              "2                 0.0                    0.0          0.0        0.0   \n",
              "3                 0.0                    0.0          0.0        0.0   \n",
              "4                 0.0                    0.0          0.0        0.0   \n",
              "\n",
              "   tcp.flags.ack  tcp.len tcp.options tcp.payload  tcp.seq tcp.srcport  \\\n",
              "0            0.0      0.0         0.0         0.0      0.0           0   \n",
              "1            0.0      0.0         0.0         0.0      0.0           0   \n",
              "2            0.0      0.0         0.0         0.0      0.0           0   \n",
              "3            0.0      0.0         0.0         0.0      0.0           0   \n",
              "4            0.0      0.0         0.0         0.0      0.0           0   \n",
              "\n",
              "   udp.port  udp.stream  udp.time_delta  dns.qry.name dns.qry.name.len  \\\n",
              "0       0.0         0.0             0.0           0.0              0.0   \n",
              "1       0.0         0.0             0.0           0.0              0.0   \n",
              "2       0.0         0.0             0.0           0.0              0.0   \n",
              "3       0.0         0.0             0.0           0.0              0.0   \n",
              "4       0.0         0.0             0.0           0.0              0.0   \n",
              "\n",
              "   dns.qry.qu  dns.qry.type  dns.retransmission  dns.retransmit_request  \\\n",
              "0         0.0           0.0                 0.0                     0.0   \n",
              "1         0.0           0.0                 0.0                     0.0   \n",
              "2         0.0           0.0                 0.0                     0.0   \n",
              "3         0.0           0.0                 0.0                     0.0   \n",
              "4         0.0           0.0                 0.0                     0.0   \n",
              "\n",
              "   dns.retransmit_request_in mqtt.conack.flags  mqtt.conflag.cleansess  \\\n",
              "0                        0.0               0.0                     0.0   \n",
              "1                        0.0               0.0                     0.0   \n",
              "2                        0.0               0.0                     0.0   \n",
              "3                        0.0               0.0                     0.0   \n",
              "4                        0.0               0.0                     0.0   \n",
              "\n",
              "   mqtt.conflags  mqtt.hdrflags  mqtt.len  mqtt.msg_decoded_as mqtt.msg  \\\n",
              "0            0.0            0.0       0.0                  0.0      0.0   \n",
              "1            0.0            0.0       0.0                  0.0      0.0   \n",
              "2            0.0            0.0       0.0                  0.0      0.0   \n",
              "3            0.0            0.0       0.0                  0.0      0.0   \n",
              "4            0.0            0.0       0.0                  0.0      0.0   \n",
              "\n",
              "   mqtt.msgtype  mqtt.proto_len mqtt.protoname mqtt.topic  mqtt.topic_len  \\\n",
              "0           0.0             0.0            0.0        0.0             0.0   \n",
              "1           0.0             0.0            0.0        0.0             0.0   \n",
              "2           0.0             0.0            0.0        0.0             0.0   \n",
              "3           0.0             0.0            0.0        0.0             0.0   \n",
              "4           0.0             0.0            0.0        0.0             0.0   \n",
              "\n",
              "   mqtt.ver  mbtcp.len  mbtcp.trans_id  mbtcp.unit_id  Attack_label  \\\n",
              "0       0.0        0.0             0.0            0.0             1   \n",
              "1       0.0        0.0             0.0            0.0             1   \n",
              "2       0.0        0.0             0.0            0.0             1   \n",
              "3       0.0        0.0             0.0            0.0             1   \n",
              "4       0.0        0.0             0.0            0.0             1   \n",
              "\n",
              "  Attack_type  \n",
              "0        MITM  \n",
              "1        MITM  \n",
              "2        MITM  \n",
              "3        MITM  \n",
              "4        MITM  "
            ]
          },
          "metadata": {},
          "output_type": "display_data"
        },
        {
          "name": "stdout",
          "output_type": "stream",
          "text": [
            "<class 'pandas.core.frame.DataFrame'>\n",
            "RangeIndex: 157800 entries, 0 to 157799\n",
            "Data columns (total 63 columns):\n",
            " #   Column                     Non-Null Count   Dtype  \n",
            "---  ------                     --------------   -----  \n",
            " 0   frame.time                 157800 non-null  object \n",
            " 1   ip.src_host                157800 non-null  object \n",
            " 2   ip.dst_host                157800 non-null  object \n",
            " 3   arp.dst.proto_ipv4         157800 non-null  object \n",
            " 4   arp.opcode                 157800 non-null  float64\n",
            " 5   arp.hw.size                157800 non-null  float64\n",
            " 6   arp.src.proto_ipv4         157800 non-null  object \n",
            " 7   icmp.checksum              157800 non-null  float64\n",
            " 8   icmp.seq_le                157800 non-null  float64\n",
            " 9   icmp.transmit_timestamp    157800 non-null  float64\n",
            " 10  icmp.unused                157800 non-null  float64\n",
            " 11  http.file_data             157800 non-null  object \n",
            " 12  http.content_length        157800 non-null  float64\n",
            " 13  http.request.uri.query     157800 non-null  object \n",
            " 14  http.request.method        157800 non-null  object \n",
            " 15  http.referer               157800 non-null  object \n",
            " 16  http.request.full_uri      157800 non-null  object \n",
            " 17  http.request.version       157800 non-null  object \n",
            " 18  http.response              157800 non-null  float64\n",
            " 19  http.tls_port              157800 non-null  float64\n",
            " 20  tcp.ack                    157800 non-null  float64\n",
            " 21  tcp.ack_raw                157800 non-null  float64\n",
            " 22  tcp.checksum               157800 non-null  float64\n",
            " 23  tcp.connection.fin         157800 non-null  float64\n",
            " 24  tcp.connection.rst         157800 non-null  float64\n",
            " 25  tcp.connection.syn         157800 non-null  float64\n",
            " 26  tcp.connection.synack      157800 non-null  float64\n",
            " 27  tcp.dstport                157800 non-null  float64\n",
            " 28  tcp.flags                  157800 non-null  float64\n",
            " 29  tcp.flags.ack              157800 non-null  float64\n",
            " 30  tcp.len                    157800 non-null  float64\n",
            " 31  tcp.options                157800 non-null  object \n",
            " 32  tcp.payload                157800 non-null  object \n",
            " 33  tcp.seq                    157800 non-null  float64\n",
            " 34  tcp.srcport                157800 non-null  object \n",
            " 35  udp.port                   157800 non-null  float64\n",
            " 36  udp.stream                 157800 non-null  float64\n",
            " 37  udp.time_delta             157800 non-null  float64\n",
            " 38  dns.qry.name               157800 non-null  float64\n",
            " 39  dns.qry.name.len           157800 non-null  object \n",
            " 40  dns.qry.qu                 157800 non-null  float64\n",
            " 41  dns.qry.type               157800 non-null  float64\n",
            " 42  dns.retransmission         157800 non-null  float64\n",
            " 43  dns.retransmit_request     157800 non-null  float64\n",
            " 44  dns.retransmit_request_in  157800 non-null  float64\n",
            " 45  mqtt.conack.flags          157800 non-null  object \n",
            " 46  mqtt.conflag.cleansess     157800 non-null  float64\n",
            " 47  mqtt.conflags              157800 non-null  float64\n",
            " 48  mqtt.hdrflags              157800 non-null  float64\n",
            " 49  mqtt.len                   157800 non-null  float64\n",
            " 50  mqtt.msg_decoded_as        157800 non-null  float64\n",
            " 51  mqtt.msg                   157800 non-null  object \n",
            " 52  mqtt.msgtype               157800 non-null  float64\n",
            " 53  mqtt.proto_len             157800 non-null  float64\n",
            " 54  mqtt.protoname             157800 non-null  object \n",
            " 55  mqtt.topic                 157800 non-null  object \n",
            " 56  mqtt.topic_len             157800 non-null  float64\n",
            " 57  mqtt.ver                   157800 non-null  float64\n",
            " 58  mbtcp.len                  157800 non-null  float64\n",
            " 59  mbtcp.trans_id             157800 non-null  float64\n",
            " 60  mbtcp.unit_id              157800 non-null  float64\n",
            " 61  Attack_label               157800 non-null  int64  \n",
            " 62  Attack_type                157800 non-null  object \n",
            "dtypes: float64(42), int64(1), object(20)\n",
            "memory usage: 75.8+ MB\n"
          ]
        }
      ],
      "source": [
        "import pandas as pd\n",
        "import os\n",
        "\n",
        "ml_path = dataset_path + \"/Edge-IIoTset dataset/Selected dataset for ML and DL\"\n",
        "csv_file = \"ML-EdgeIIoT-dataset.csv\"\n",
        "\n",
        "df = pd.read_csv(os.path.join(ml_path, csv_file))\n",
        "\n",
        "\n",
        "print(\"Dataset shape:\", df.shape)\n",
        "display(df.head())\n",
        "df.info()"
      ]
    },
    {
      "cell_type": "code",
      "execution_count": null,
      "metadata": {
        "id": "Ps8IVMV9YWgQ"
      },
      "outputs": [],
      "source": [
        "import pandas as pd\n",
        "import numpy as np\n",
        "from sklearn.preprocessing import LabelEncoder, StandardScaler\n",
        "from sklearn.model_selection import train_test_split\n",
        "import joblib"
      ]
    },
    {
      "cell_type": "code",
      "execution_count": null,
      "metadata": {
        "colab": {
          "base_uri": "https://localhost:8080/"
        },
        "id": "S2KTtsCpn7Kg",
        "outputId": "ba1b43ac-44bd-4b33-fdd7-c8caf1e6f20b"
      },
      "outputs": [
        {
          "name": "stdout",
          "output_type": "stream",
          "text": [
            "Initial shape: (157800, 63)\n"
          ]
        }
      ],
      "source": [
        "\n",
        "print(\"Initial shape:\", df.shape)"
      ]
    },
    {
      "cell_type": "code",
      "execution_count": null,
      "metadata": {
        "colab": {
          "base_uri": "https://localhost:8080/"
        },
        "id": "6JqKlpcApp1M",
        "outputId": "f8019bfd-ad31-4fa0-8ed0-c7d78cd002c7"
      },
      "outputs": [
        {
          "name": "stdout",
          "output_type": "stream",
          "text": [
            "After dropping columns: (157800, 51)\n"
          ]
        }
      ],
      "source": [
        "\n",
        "drop_cols = [\n",
        "    \"ip.src_host\", \"ip.dst_host\", \"http.file_data\", \"http.request.full_uri\",\n",
        "    \"http.referer\", \"http.request.uri.query\", \"tcp.options\", \"tcp.payload\",\n",
        "    \"mqtt.msg\", \"mqtt.protoname\", \"mqtt.topic\", \"dns.qry.name\"\n",
        "]\n",
        "df = df.drop(columns=drop_cols, errors=\"ignore\")\n",
        "print(\"After dropping columns:\", df.shape)"
      ]
    },
    {
      "cell_type": "code",
      "execution_count": 1,
      "metadata": {
        "colab": {
          "base_uri": "https://localhost:8080/",
          "height": 176
        },
        "id": "17vKrAffpzp_",
        "outputId": "b869d176-989c-49ac-ad71-0b35dd8a7727"
      },
      "outputs": [
        {
          "ename": "NameError",
          "evalue": "name 'df' is not defined",
          "output_type": "error",
          "traceback": [
            "\u001b[0;31m---------------------------------------------------------------------------\u001b[0m",
            "\u001b[0;31mNameError\u001b[0m                                 Traceback (most recent call last)",
            "\u001b[0;32m/tmp/ipython-input-194202124.py\u001b[0m in \u001b[0;36m<cell line: 0>\u001b[0;34m()\u001b[0m\n\u001b[0;32m----> 1\u001b[0;31m \u001b[0mcat_cols\u001b[0m \u001b[0;34m=\u001b[0m \u001b[0mdf\u001b[0m\u001b[0;34m.\u001b[0m\u001b[0mselect_dtypes\u001b[0m\u001b[0;34m(\u001b[0m\u001b[0minclude\u001b[0m\u001b[0;34m=\u001b[0m\u001b[0;34m[\u001b[0m\u001b[0;34m\"object\"\u001b[0m\u001b[0;34m]\u001b[0m\u001b[0;34m)\u001b[0m\u001b[0;34m.\u001b[0m\u001b[0mcolumns\u001b[0m\u001b[0;34m.\u001b[0m\u001b[0mtolist\u001b[0m\u001b[0;34m(\u001b[0m\u001b[0;34m)\u001b[0m\u001b[0;34m\u001b[0m\u001b[0;34m\u001b[0m\u001b[0m\n\u001b[0m\u001b[1;32m      2\u001b[0m \u001b[0mcat_cols\u001b[0m \u001b[0;34m=\u001b[0m \u001b[0;34m[\u001b[0m\u001b[0mc\u001b[0m \u001b[0;32mfor\u001b[0m \u001b[0mc\u001b[0m \u001b[0;32min\u001b[0m \u001b[0mcat_cols\u001b[0m \u001b[0;32mif\u001b[0m \u001b[0mc\u001b[0m \u001b[0;34m!=\u001b[0m \u001b[0;34m\"Attack_type\"\u001b[0m\u001b[0;34m]\u001b[0m\u001b[0;34m\u001b[0m\u001b[0;34m\u001b[0m\u001b[0m\n\u001b[1;32m      3\u001b[0m \u001b[0mprint\u001b[0m\u001b[0;34m(\u001b[0m\u001b[0;34m\"Categorical columns to encode:\"\u001b[0m\u001b[0;34m,\u001b[0m \u001b[0mcat_cols\u001b[0m\u001b[0;34m)\u001b[0m\u001b[0;34m\u001b[0m\u001b[0;34m\u001b[0m\u001b[0m\n",
            "\u001b[0;31mNameError\u001b[0m: name 'df' is not defined"
          ]
        }
      ],
      "source": [
        "\n",
        "cat_cols = df.select_dtypes(include=[\"object\"]).columns.tolist()\n",
        "cat_cols = [c for c in cat_cols if c != \"Attack_type\"]\n",
        "print(\"Categorical columns to encode:\", cat_cols)"
      ]
    },
    {
      "cell_type": "code",
      "execution_count": null,
      "metadata": {
        "id": "xi7TXp8Msp7S"
      },
      "outputs": [],
      "source": [
        "# encoded categorial features\n",
        "for col in cat_cols:\n",
        "    le = LabelEncoder()\n",
        "    df[col] = le.fit_transform(df[col].astype(str))"
      ]
    },
    {
      "cell_type": "markdown",
      "metadata": {
        "id": "zoEtuMO3mIQK"
      },
      "source": [
        "Categorical features are columns that contain textual or symbolic values instead of numbers."
      ]
    },
    {
      "cell_type": "code",
      "execution_count": null,
      "metadata": {
        "id": "6Zx6xqrdswYs"
      },
      "outputs": [],
      "source": [
        "-\n",
        "df = df.replace(\"?\", np.nan)\n",
        "df = df.fillna(0)"
      ]
    },
    {
      "cell_type": "code",
      "execution_count": null,
      "metadata": {
        "colab": {
          "base_uri": "https://localhost:8080/"
        },
        "id": "A5VXo3yps2Wt",
        "outputId": "639882aa-47b5-4995-f8b9-619036fef740"
      },
      "outputs": [
        {
          "name": "stdout",
          "output_type": "stream",
          "text": [
            "Features shape: (157800, 49)\n",
            "Labels shape: (157800,)\n"
          ]
        }
      ],
      "source": [
        "#  Separate features & labels\n",
        "\n",
        "X = df.drop(columns=[\"Attack_label\", \"Attack_type\"], errors=\"ignore\")\n",
        "y = df[\"Attack_label\"]  # binary: 0 = Normal, 1 = Attack\n",
        "print(\"Features shape:\", X.shape)\n",
        "print(\"Labels shape:\", y.shape)\n"
      ]
    },
    {
      "cell_type": "code",
      "execution_count": null,
      "metadata": {
        "id": "wUM6AGu5s4tK"
      },
      "outputs": [],
      "source": [
        "#  Train-test split\n",
        "\n",
        "X_train, X_test, y_train, y_test = train_test_split(\n",
        "    X, y, test_size=0.3, random_state=42, stratify=y\n",
        ")"
      ]
    },
    {
      "cell_type": "code",
      "execution_count": null,
      "metadata": {
        "colab": {
          "base_uri": "https://localhost:8080/"
        },
        "id": "KTmO5-B_s9V9",
        "outputId": "d0e25872-2c92-42d9-9847-1f94d85a700e"
      },
      "outputs": [
        {
          "name": "stdout",
          "output_type": "stream",
          "text": [
            "X_train_scaled shape: (110460, 49)\n"
          ]
        }
      ],
      "source": [
        "#  Scale numerical features\n",
        "scaler = StandardScaler()\n",
        "X_train_scaled = scaler.fit_transform(X_train)\n",
        "X_test_scaled = scaler.transform(X_test)\n",
        "print(\"X_train_scaled shape:\", X_train_scaled.shape)\n"
      ]
    },
    {
      "cell_type": "markdown",
      "metadata": {
        "id": "MMvuuYZKnbYk"
      },
      "source": []
    },
    {
      "cell_type": "code",
      "execution_count": null,
      "metadata": {
        "colab": {
          "base_uri": "https://localhost:8080/"
        },
        "id": "6UOyKkcvtBaL",
        "outputId": "0ac96f33-542b-4b61-a390-cd2c9b25821d"
      },
      "outputs": [
        {
          "name": "stdout",
          "output_type": "stream",
          "text": [
            "✅ Preprocessing complete. Scaler saved as scaler.pkl\n"
          ]
        }
      ],
      "source": [
        "#  Save preprocessing objects\n",
        "\n",
        "joblib.dump(scaler, \"scaler.pkl\")\n",
        "print(\" Preprocessing complete. Scaler saved as scaler.pkl\")"
      ]
    },
    {
      "cell_type": "code",
      "execution_count": null,
      "metadata": {
        "colab": {
          "base_uri": "https://localhost:8080/"
        },
        "id": "5JzG97EJt-Zr",
        "outputId": "743eaac3-0efb-4dab-8055-28ca96447221"
      },
      "outputs": [
        {
          "name": "stdout",
          "output_type": "stream",
          "text": [
            "✅ RandomForest Accuracy: 100.00%\n",
            "\n",
            "Classification Report:\n",
            "               precision    recall  f1-score   support\n",
            "\n",
            "           0       1.00      1.00      1.00      7290\n",
            "           1       1.00      1.00      1.00     40050\n",
            "\n",
            "    accuracy                           1.00     47340\n",
            "   macro avg       1.00      1.00      1.00     47340\n",
            "weighted avg       1.00      1.00      1.00     47340\n",
            "\n",
            "\n",
            "Confusion Matrix:\n",
            " [[ 7290     0]\n",
            " [    0 40050]]\n",
            "✅ RandomForest model saved as randomforest_ids_model.pkl\n"
          ]
        }
      ],
      "source": [
        "from sklearn.ensemble import RandomForestClassifier\n",
        "from sklearn.metrics import classification_report, confusion_matrix, accuracy_score\n",
        "\n",
        "rf = RandomForestClassifier(\n",
        "    n_estimators=100,\n",
        "    max_depth=15,\n",
        "    random_state=42,\n",
        "    n_jobs=-1\n",
        ")\n",
        "\n",
        "\n",
        "# Train the model\n",
        "\n",
        "rf.fit(X_train_scaled, y_train)\n",
        "\n",
        "# Make predictions\n",
        "\n",
        "y_pred = rf.predict(X_test_scaled)\n",
        "\n",
        "\n",
        "\n",
        "accuracy = accuracy_score(y_test, y_pred) * 100  # convert to percentage\n",
        "print(f\"RandomForest Accuracy: {accuracy:.2f}%\")\n",
        "\n",
        "print(\"\\nClassification Report:\\n\", classification_report(y_test, y_pred))\n",
        "print(\"\\nConfusion Matrix:\\n\", confusion_matrix(y_test, y_pred))\n",
        "\n",
        "# Save model\n",
        "\n",
        "import joblib\n",
        "joblib.dump(rf, \"randomforest_ids_model.pkl\")\n",
        "print(\" RandomForest model saved as randomforest_ids_model.pkl\")\n"
      ]
    },
    {
      "cell_type": "markdown",
      "metadata": {
        "id": "niYYEwF7GtJM"
      },
      "source": [
        "Model was overfitted due to leakage."
      ]
    },
    {
      "cell_type": "code",
      "execution_count": null,
      "metadata": {
        "colab": {
          "base_uri": "https://localhost:8080/"
        },
        "id": "ntw1KW_FuMgx",
        "outputId": "56b17c6a-7e5c-4ed8-edd7-8716757ccaef"
      },
      "outputs": [
        {
          "name": "stdout",
          "output_type": "stream",
          "text": [
            "Training until validation scores don't improve for 20 rounds\n",
            "Did not meet early stopping. Best iteration is:\n",
            "[200]\ttrain's binary_logloss: 1.16815e-05\ttest's binary_logloss: 1.17386e-05\n",
            "✅ LightGBM Accuracy: 1.0000\n",
            "\n",
            "Classification Report:\n",
            "               precision    recall  f1-score   support\n",
            "\n",
            "           0       1.00      1.00      1.00      7290\n",
            "           1       1.00      1.00      1.00     40050\n",
            "\n",
            "    accuracy                           1.00     47340\n",
            "   macro avg       1.00      1.00      1.00     47340\n",
            "weighted avg       1.00      1.00      1.00     47340\n",
            "\n",
            "\n",
            "Confusion Matrix:\n",
            " [[ 7290     0]\n",
            " [    0 40050]]\n",
            "✅ LightGBM model saved as lightgbm_ids_model.txt\n"
          ]
        }
      ],
      "source": [
        "import lightgbm as lgb\n",
        "from sklearn.metrics import classification_report, confusion_matrix, accuracy_score\n",
        "\n",
        "# Create LightGBM dataset\n",
        "-\n",
        "lgb_train = lgb.Dataset(X_train_scaled, label=y_train)\n",
        "lgb_test = lgb.Dataset(X_test_scaled, label=y_test, reference=lgb_train)\n",
        "\n",
        "# Set parameters\n",
        "\n",
        "params = {\n",
        "    'objective': 'binary',\n",
        "    'metric': 'binary_logloss',\n",
        "    'boosting_type': 'gbdt',\n",
        "    'num_leaves': 31,\n",
        "    'learning_rate': 0.05,\n",
        "    'feature_fraction': 0.8,\n",
        "    'bagging_fraction': 0.8,\n",
        "    'bagging_freq': 5,\n",
        "    'verbose': -1,\n",
        "    'random_state': 42\n",
        "}\n",
        "\n",
        "\n",
        "# Train LightGBM model\n",
        "\n",
        "lgbm_model = lgb.train(\n",
        "    params,\n",
        "    lgb_train,\n",
        "    num_boost_round=200,\n",
        "    valid_sets=[lgb_train, lgb_test],\n",
        "    valid_names=['train','test'],\n",
        "    callbacks=[lgb.early_stopping(stopping_rounds=20, verbose=True)]\n",
        ")\n",
        "\n",
        "\n",
        "# Predictions\n",
        "y_pred_prob = lgbm_model.predict(X_test_scaled, num_iteration=lgbm_model.best_iteration)\n",
        "y_pred = (y_pred_prob > 0.5).astype(int)  # convert probabilities to 0/1\n",
        "\n",
        "# Evaluation\n",
        "\n",
        "accuracy = accuracy_score(y_test, y_pred)\n",
        "print(f\" LightGBM Accuracy: {accuracy:.4f}\")\n",
        "\n",
        "print(\"\\nClassification Report:\\n\", classification_report(y_test, y_pred))\n",
        "print(\"\\nConfusion Matrix:\\n\", confusion_matrix(y_test, y_pred))\n",
        "\n",
        "# Save model for inference\n",
        "\n",
        "lgbm_model.save_model(\"lightgbm_ids_model.txt\")\n",
        "print(\" LightGBM model saved as lightgbm_ids_model.txt\")"
      ]
    },
    {
      "cell_type": "markdown",
      "metadata": {
        "id": "lsTt5uD3Hdl6"
      },
      "source": [
        "Some features in the Edge-IIoTset dataset are directly or almost perfectly correlated with the attack label.<br>\n",
        "X_train, X_test, y_train, y_test = train_test_split(X, y, test_size=0.3, random_state=42) -This splits rows randomly.\n",
        "\n",
        "For IoT/IIoT data, multiple packets belong to the same session/device.\n",
        "\n",
        "Random splitting caused packets from the same session to appear in both train and test.\n"
      ]
    },
    {
      "cell_type": "code",
      "execution_count": null,
      "metadata": {
        "colab": {
          "base_uri": "https://localhost:8080/"
        },
        "id": "8iTxJbunuxeN",
        "outputId": "96f87ca6-95f8-4918-bf57-8933c337d43a"
      },
      "outputs": [
        {
          "name": "stdout",
          "output_type": "stream",
          "text": [
            "Overlapping rows between train and test: 0\n"
          ]
        }
      ],
      "source": [
        "print(\"Overlapping rows between train and test:\", len(set(X_train.index) & set(X_test.index)))\n"
      ]
    },
    {
      "cell_type": "code",
      "execution_count": null,
      "metadata": {
        "colab": {
          "base_uri": "https://localhost:8080/"
        },
        "id": "RSAMvLKW2CqN",
        "outputId": "458255b7-c7eb-46b1-e869-f6abdf771e20"
      },
      "outputs": [
        {
          "name": "stdout",
          "output_type": "stream",
          "text": [
            "Train class distribution:\n",
            " Attack_label\n",
            "1    93449\n",
            "0    17011\n",
            "Name: count, dtype: int64\n",
            "Test class distribution:\n",
            " Attack_label\n",
            "1    40050\n",
            "0     7290\n",
            "Name: count, dtype: int64\n"
          ]
        }
      ],
      "source": [
        "print(\"Train class distribution:\\n\", y_train.value_counts())\n",
        "print(\"Test class distribution:\\n\", y_test.value_counts())\n"
      ]
    },
    {
      "cell_type": "markdown",
      "metadata": {
        "id": "nodc4LE94HB7"
      },
      "source": [
        "trying to remove leaks from the dataset"
      ]
    },
    {
      "cell_type": "code",
      "execution_count": null,
      "metadata": {
        "colab": {
          "base_uri": "https://localhost:8080/"
        },
        "id": "xuyt2-6r4LMI",
        "outputId": "c7a81cbc-cc3f-4821-a230-8ab700731dab"
      },
      "outputs": [
        {
          "name": "stdout",
          "output_type": "stream",
          "text": [
            "Features shape after leak removal: (157800, 44)\n",
            "Labels shape: (157800,)\n"
          ]
        }
      ],
      "source": [
        "#  Preprocessing and feature selection with potential leak removal\n",
        "\n",
        "import pandas as pd\n",
        "import numpy as np\n",
        "from sklearn.preprocessing import LabelEncoder, StandardScaler\n",
        "from sklearn.model_selection import train_test_split\n",
        "import joblib\n",
        "\n",
        "# Drop raw/text columns (same as before)\n",
        "drop_cols = [\n",
        "    \"ip.src_host\", \"ip.dst_host\", \"http.file_data\", \"http.request.full_uri\",\n",
        "    \"http.referer\", \"http.request.uri.query\", \"tcp.options\", \"tcp.payload\",\n",
        "    \"mqtt.msg\", \"mqtt.protoname\", \"mqtt.topic\", \"dns.qry.name\"\n",
        "]\n",
        "df = df.drop(columns=drop_cols, errors=\"ignore\")\n",
        "\n",
        "# Remove high-leakage numeric features\n",
        "# Features that are too directly correlated with attacks\n",
        "leak_cols = [\"mbtcp.trans_id\", \"icmp.seq_le\", \"tcp.seq\", \"tcp.ack\", \"dns.qry.qu\"]\n",
        "df = df.drop(columns=[c for c in leak_cols if c in df.columns], errors=\"ignore\")\n",
        "\n",
        "# Identify categorical features (excluding target)\n",
        "cat_cols = df.select_dtypes(include=[\"object\"]).columns.tolist()\n",
        "cat_cols = [c for c in cat_cols if c != \"Attack_type\"]\n",
        "\n",
        "# For high-cardinality categorical columns, drop or aggregate\n",
        "high_cardinality_cols = [\"frame.time\"]  # too many unique values → could leak info\n",
        "cat_cols = [c for c in cat_cols if c not in high_cardinality_cols]\n",
        "\n",
        "# Encode remaining categorical features\n",
        "for col in cat_cols:\n",
        "    le = LabelEncoder()\n",
        "    df[col] = le.fit_transform(df[col].astype(str))\n",
        "\n",
        "# Handle missing values\n",
        "df = df.replace(\"?\", np.nan)\n",
        "df = df.fillna(0)\n",
        "\n",
        "# Separate features and labels\n",
        "X = df.drop(columns=[\"Attack_label\", \"Attack_type\"], errors=\"ignore\")\n",
        "y = df[\"Attack_label\"]\n",
        "\n",
        "print(\"Features shape after leak removal:\", X.shape)\n",
        "print(\"Labels shape:\", y.shape)\n"
      ]
    },
    {
      "cell_type": "code",
      "execution_count": null,
      "metadata": {
        "colab": {
          "base_uri": "https://localhost:8080/"
        },
        "id": "GhkHgf3m4V2B",
        "outputId": "6d8c0b08-6cd5-456c-b196-6858d88547ad"
      },
      "outputs": [
        {
          "name": "stdout",
          "output_type": "stream",
          "text": [
            "Train shape: (88054, 44)\n",
            "Test shape: (69746, 44)\n",
            "Overlapping rows between train and test: 0\n"
          ]
        }
      ],
      "source": [
        "# Cell 7: Train-test split using device/session grouping to avoid flow leakage\n",
        "\n",
        "from sklearn.model_selection import GroupShuffleSplit\n",
        "\n",
        "# Assume 'tcp.srcport' or another field as session/device identifier for grouping\n",
        "# For simplicity, let's use 'tcp.srcport' if it exists, otherwise skip grouping\n",
        "group_col = \"tcp.srcport\" if \"tcp.srcport\" in df.columns else None\n",
        "\n",
        "if group_col:\n",
        "    gss = GroupShuffleSplit(n_splits=1, test_size=0.3, random_state=42)\n",
        "    train_idx, test_idx = next(gss.split(X, y, groups=df[group_col]))\n",
        "    X_train, X_test = X.iloc[train_idx], X.iloc[test_idx]\n",
        "    y_train, y_test = y.iloc[train_idx], y.iloc[test_idx]\n",
        "else:\n",
        "    # fallback\n",
        "    X_train, X_test, y_train, y_test = train_test_split(\n",
        "        X, y, test_size=0.3, random_state=42, stratify=y\n",
        "    )\n",
        "\n",
        "print(\"Train shape:\", X_train.shape)\n",
        "print(\"Test shape:\", X_test.shape)\n",
        "print(\"Overlapping rows between train and test:\", len(set(X_train.index) & set(X_test.index)))\n"
      ]
    },
    {
      "cell_type": "code",
      "execution_count": null,
      "metadata": {
        "colab": {
          "base_uri": "https://localhost:8080/"
        },
        "id": "FFA9P02P4ZTI",
        "outputId": "7501078e-8eed-4f78-aba8-88f5b957d3f2"
      },
      "outputs": [
        {
          "name": "stdout",
          "output_type": "stream",
          "text": [
            "✅ Scaler saved\n"
          ]
        }
      ],
      "source": [
        "# Cell 8: Standard scaling\n",
        "\n",
        "scaler = StandardScaler()\n",
        "X_train_scaled = scaler.fit_transform(X_train)\n",
        "X_test_scaled = scaler.transform(X_test)\n",
        "\n",
        "# Save scaler\n",
        "joblib.dump(scaler, \"scaler_ids.pkl\")\n",
        "print(\"Scaler saved\")\n"
      ]
    },
    {
      "cell_type": "code",
      "execution_count": null,
      "metadata": {
        "colab": {
          "base_uri": "https://localhost:8080/"
        },
        "id": "AejeRTS44cAB",
        "outputId": "d0f7fc26-ce42-4453-b09a-b60cfbd8bab6"
      },
      "outputs": [
        {
          "name": "stdout",
          "output_type": "stream",
          "text": [
            "✅ RandomForest Accuracy: 98.22%\n",
            "✅ RandomForest Balanced Accuracy: 96.08%\n",
            "✅ RandomForest F1-Score: 98.86%\n",
            "\n",
            "Classification Report:\n",
            "               precision    recall  f1-score   support\n",
            "\n",
            "           0       1.00      0.92      0.96     15791\n",
            "           1       0.98      1.00      0.99     53955\n",
            "\n",
            "    accuracy                           0.98     69746\n",
            "   macro avg       0.99      0.96      0.97     69746\n",
            "weighted avg       0.98      0.98      0.98     69746\n",
            "\n",
            "Confusion Matrix:\n",
            " [[14552  1239]\n",
            " [    0 53955]]\n",
            "✅ RandomForest model saved\n"
          ]
        }
      ],
      "source": [
        "# Cell 9: RandomForest with class_weight and realistic evaluation\n",
        "\n",
        "from sklearn.ensemble import RandomForestClassifier\n",
        "from sklearn.metrics import classification_report, confusion_matrix, accuracy_score, f1_score, balanced_accuracy_score\n",
        "\n",
        "rf = RandomForestClassifier(\n",
        "    n_estimators=100,\n",
        "    max_depth=15,\n",
        "    random_state=42,\n",
        "    n_jobs=-1,\n",
        "    class_weight='balanced'  # handle imbalance\n",
        ")\n",
        "\n",
        "rf.fit(X_train_scaled, y_train)\n",
        "y_pred = rf.predict(X_test_scaled)\n",
        "\n",
        "# Metrics\n",
        "accuracy = accuracy_score(y_test, y_pred) * 100\n",
        "balanced_acc = balanced_accuracy_score(y_test, y_pred) * 100\n",
        "f1 = f1_score(y_test, y_pred) * 100\n",
        "\n",
        "print(f\" RandomForest Accuracy: {accuracy:.2f}%\")\n",
        "print(f\" RandomForest Balanced Accuracy: {balanced_acc:.2f}%\")\n",
        "print(f\" RandomForest F1-Score: {f1:.2f}%\\n\")\n",
        "\n",
        "print(\"Classification Report:\\n\", classification_report(y_test, y_pred))\n",
        "print(\"Confusion Matrix:\\n\", confusion_matrix(y_test, y_pred))\n",
        "\n",
        "# Save model\n",
        "joblib.dump(rf, \"randomforest_ids_model_balanced.pkl\")\n",
        "print(\"RandomForest model saved\")\n"
      ]
    },
    {
      "cell_type": "markdown",
      "metadata": {
        "id": "dsyKIuNoSKRx"
      },
      "source": [
        "Dropped identifiable text/raw columns <br>\n",
        "\n",
        "Handled high-cardinality features (frame.time)\n",
        "\n",
        "Group-based train-test split - Ensures packets from the same session/device don’t appear in both train and test → mimics real-world deployment."
      ]
    },
    {
      "cell_type": "code",
      "execution_count": null,
      "metadata": {
        "colab": {
          "base_uri": "https://localhost:8080/"
        },
        "id": "WnGUCDSyC7O4",
        "outputId": "94d26fab-4518-4e7f-9568-657ef7477a0e"
      },
      "outputs": [
        {
          "name": "stdout",
          "output_type": "stream",
          "text": [
            "✅ RandomForest Accuracy: 99.40%\n",
            "✅ RandomForest Balanced Accuracy: 98.68%\n",
            "✅ RandomForest F1-Score: 99.62%\n",
            "\n",
            "Classification Report:\n",
            "               precision    recall  f1-score   support\n",
            "\n",
            "           0       1.00      0.97      0.99     15791\n",
            "           1       0.99      1.00      1.00     53955\n",
            "\n",
            "    accuracy                           0.99     69746\n",
            "   macro avg       1.00      0.99      0.99     69746\n",
            "weighted avg       0.99      0.99      0.99     69746\n",
            "\n",
            "Confusion Matrix:\n",
            " [[15375   416]\n",
            " [    0 53955]]\n",
            "✅ RandomForest model saved as randomforest_ids_model_balanced.pkl\n"
          ]
        }
      ],
      "source": [
        "# ---------------------------\n",
        "# Improved Supervised Learning: RandomForest\n",
        "# ---------------------------\n",
        "\n",
        "from sklearn.ensemble import RandomForestClassifier\n",
        "from sklearn.metrics import classification_report, confusion_matrix, accuracy_score, f1_score, balanced_accuracy_score\n",
        "import joblib\n",
        "\n",
        "# Initialize RandomForest with class_weight to handle imbalance\n",
        "rf = RandomForestClassifier(\n",
        "    n_estimators=200,      # more trees for stability\n",
        "    max_depth=15,          # prevent overfitting\n",
        "    random_state=42,\n",
        "    n_jobs=-1,\n",
        "    class_weight='balanced'\n",
        ")\n",
        "\n",
        "# Train the model\n",
        "rf.fit(X_train_scaled, y_train)\n",
        "\n",
        "# Make predictions\n",
        "y_pred = rf.predict(X_test_scaled)\n",
        "\n",
        "# Evaluation metrics in percentage\n",
        "accuracy = accuracy_score(y_test, y_pred) * 100\n",
        "balanced_acc = balanced_accuracy_score(y_test, y_pred) * 100\n",
        "f1 = f1_score(y_test, y_pred) * 100\n",
        "\n",
        "print(f\" RandomForest Accuracy: {accuracy:.2f}%\")\n",
        "print(f\" RandomForest Balanced Accuracy: {balanced_acc:.2f}%\")\n",
        "print(f\" RandomForest F1-Score: {f1:.2f}%\\n\")\n",
        "\n",
        "# Detailed classification report\n",
        "print(\"Classification Report:\\n\", classification_report(y_test, y_pred))\n",
        "print(\"Confusion Matrix:\\n\", confusion_matrix(y_test, y_pred))\n",
        "\n",
        "# Save the trained model\n",
        "joblib.dump(rf, \"randomforest_ids_model_balanced.pkl\")\n",
        "print(\"✅ RandomForest model saved as randomforest_ids_model_balanced.pkl\")\n"
      ]
    },
    {
      "cell_type": "markdown",
      "metadata": {
        "id": "Gm6Q4puNSuzR"
      },
      "source": [
        "more tress(200),\n",
        "\n",
        " depth control,\n",
        "\n",
        "  class imbalace handling( prevents bias towards the majority class)"
      ]
    },
    {
      "cell_type": "code",
      "execution_count": null,
      "metadata": {
        "colab": {
          "base_uri": "https://localhost:8080/"
        },
        "id": "VJdAtyiJ4rqe",
        "outputId": "a873503f-ad1c-4a83-efcb-8cf8eb952b77"
      },
      "outputs": [
        {
          "name": "stdout",
          "output_type": "stream",
          "text": [
            "Training until validation scores don't improve for 20 rounds\n",
            "Early stopping, best iteration is:\n",
            "[65]\ttrain's binary_logloss: 0.00663072\ttest's binary_logloss: 0.10178\n",
            "✅ LightGBM Accuracy: 98.15%\n",
            "✅ LightGBM Balanced Accuracy: 95.92%\n",
            "✅ LightGBM F1-Score: 98.82%\n",
            "\n",
            "Classification Report:\n",
            "               precision    recall  f1-score   support\n",
            "\n",
            "           0       1.00      0.92      0.96     15791\n",
            "           1       0.98      1.00      0.99     53955\n",
            "\n",
            "    accuracy                           0.98     69746\n",
            "   macro avg       0.99      0.96      0.97     69746\n",
            "weighted avg       0.98      0.98      0.98     69746\n",
            "\n",
            "Confusion Matrix:\n",
            " [[14502  1289]\n",
            " [    0 53955]]\n",
            "✅ LightGBM model saved\n"
          ]
        }
      ],
      "source": [
        "# Cell 10: LightGBM training\n",
        "\n",
        "import lightgbm as lgb\n",
        "\n",
        "lgb_train = lgb.Dataset(X_train_scaled, label=y_train)\n",
        "lgb_test = lgb.Dataset(X_test_scaled, label=y_test, reference=lgb_train)\n",
        "\n",
        "params = {\n",
        "    'objective': 'binary',\n",
        "    'metric': 'binary_logloss',\n",
        "    'boosting_type': 'gbdt',\n",
        "    'num_leaves': 31,\n",
        "    'learning_rate': 0.05,\n",
        "    'feature_fraction': 0.8,\n",
        "    'bagging_fraction': 0.8,\n",
        "    'bagging_freq': 5,\n",
        "    'verbose': -1,\n",
        "    'random_state': 42\n",
        "}\n",
        "\n",
        "lgbm_model = lgb.train(\n",
        "    params,\n",
        "    lgb_train,\n",
        "    num_boost_round=200,\n",
        "    valid_sets=[lgb_train, lgb_test],\n",
        "    valid_names=['train','test'],\n",
        "    callbacks=[lgb.early_stopping(stopping_rounds=20, verbose=True)]\n",
        ")\n",
        "\n",
        "y_pred_prob = lgbm_model.predict(X_test_scaled, num_iteration=lgbm_model.best_iteration)\n",
        "y_pred = (y_pred_prob > 0.5).astype(int)\n",
        "\n",
        "accuracy = accuracy_score(y_test, y_pred) * 100\n",
        "balanced_acc = balanced_accuracy_score(y_test, y_pred) * 100\n",
        "f1 = f1_score(y_test, y_pred) * 100\n",
        "\n",
        "print(f\" LightGBM Accuracy: {accuracy:.2f}%\")\n",
        "print(f\" LightGBM Balanced Accuracy: {balanced_acc:.2f}%\")\n",
        "print(f\" LightGBM F1-Score: {f1:.2f}%\\n\")\n",
        "\n",
        "print(\"Classification Report:\\n\", classification_report(y_test, y_pred))\n",
        "print(\"Confusion Matrix:\\n\", confusion_matrix(y_test, y_pred))\n",
        "\n",
        "# Save model\n",
        "lgbm_model.save_model(\"lightgbm_ids_model_balanced.txt\")\n",
        "print(\"LightGBM model saved\")\n"
      ]
    },
    {
      "cell_type": "markdown",
      "metadata": {
        "id": "Hfmab3bTTinb"
      },
      "source": [
        "no leakage<br>\n",
        "balance matrix<br>\n",
        "early stopping- prevents overfitting<br>\n",
        "Hyperparameter Tuning- helps generalizw well\n"
      ]
    },
    {
      "cell_type": "code",
      "execution_count": null,
      "metadata": {
        "colab": {
          "base_uri": "https://localhost:8080/"
        },
        "id": "xDJPRE1FAeU5",
        "outputId": "2f235873-34fe-470b-f6ae-1603dec5042f"
      },
      "outputs": [
        {
          "name": "stdout",
          "output_type": "stream",
          "text": [
            "✅ Isolation Forest Test F1-score: 20.64%\n",
            "Balanced Accuracy: 54.73%\n",
            "✅ Isolation Forest model saved\n"
          ]
        }
      ],
      "source": [
        "from sklearn.ensemble import IsolationForest\n",
        "\n",
        "iso_forest = IsolationForest(\n",
        "    n_estimators=200,\n",
        "    contamination=0.1,  # approximate anomaly fraction\n",
        "    random_state=42,\n",
        "    n_jobs=-1\n",
        ")\n",
        "\n",
        "# Train only on normal data\n",
        "X_train_normal = X_train_scaled[y_train==0]\n",
        "iso_forest.fit(X_train_normal)\n",
        "\n",
        "# Predict anomalies on test set (-1 = anomaly)\n",
        "y_anomaly = iso_forest.predict(X_test_scaled)\n",
        "y_anomaly = np.where(y_anomaly == -1, 1, 0)  # convert to 0/1 labels\n",
        "\n",
        "print(f\"Isolation Forest Test F1-score: {f1_score(y_test, y_anomaly)*100:.2f}%\")\n",
        "print(f\"Balanced Accuracy: {balanced_accuracy_score(y_test, y_anomaly)*100:.2f}%\")\n",
        "\n",
        "joblib.dump(iso_forest, \"isolation_forest_model.pkl\")\n",
        "print(\"Isolation Forest model saved\")\n"
      ]
    },
    {
      "cell_type": "markdown",
      "metadata": {
        "id": "brd3fY6mUWbx"
      },
      "source": [
        "raw text- irrelevant<br>\n",
        "high leakage<br>\n",
        "missing values no scaling<br>\n"
      ]
    },
    {
      "cell_type": "code",
      "execution_count": null,
      "metadata": {
        "colab": {
          "base_uri": "https://localhost:8080/"
        },
        "id": "r06grRg-EE7X",
        "outputId": "b7e95dd1-2432-4376-89f7-f44a0bd9cd12"
      },
      "outputs": [
        {
          "name": "stdout",
          "output_type": "stream",
          "text": [
            "\n",
            "✅ Isolation Forest Test Accuracy: 51.46%\n",
            "✅ Isolation Forest Balanced Accuracy: 35.28%\n",
            "✅ Isolation Forest F1-Score: 67.40%\n",
            "\n",
            "Isolation Forest Classification Report:\n",
            "               precision    recall  f1-score   support\n",
            "\n",
            "           0       0.05      0.06      0.05     15791\n",
            "           1       0.70      0.65      0.67     53955\n",
            "\n",
            "    accuracy                           0.51     69746\n",
            "   macro avg       0.37      0.35      0.36     69746\n",
            "weighted avg       0.55      0.51      0.53     69746\n",
            "\n",
            "Isolation Forest Confusion Matrix:\n",
            " [[  901 14890]\n",
            " [18963 34992]]\n",
            "✅ Isolation Forest model saved.\n"
          ]
        }
      ],
      "source": [
        "# Unsupervised Model: Isolation Forest\n",
        "\n",
        "iso = IsolationForest(\n",
        "    n_estimators=300,\n",
        "    max_samples='auto',\n",
        "    contamination=0.2,  # adjust based on expected anomaly ratio\n",
        "    random_state=42\n",
        ")\n",
        "iso.fit(X_train_scaled)\n",
        "y_iso_pred = iso.predict(X_test_scaled)\n",
        "y_iso = np.where(y_iso_pred == 1, 0, 1)  # convert to 0=Normal, 1=Attack\n",
        "\n",
        "# Evaluate Isolation Forest\n",
        "accuracy_iso = accuracy_score(y_test, y_iso) * 100\n",
        "balanced_acc_iso = balanced_accuracy_score(y_test, y_iso) * 100\n",
        "f1_iso = f1_score(y_test, y_iso) * 100\n",
        "print(f\"\\n Isolation Forest Test Accuracy: {accuracy_iso:.2f}%\")\n",
        "print(f\" Isolation Forest Balanced Accuracy: {balanced_acc_iso:.2f}%\")\n",
        "print(f\" Isolation Forest F1-Score: {f1_iso:.2f}%\\n\")\n",
        "\n",
        "print(\"Isolation Forest Classification Report:\\n\", classification_report(y_test, y_iso))\n",
        "print(\"Isolation Forest Confusion Matrix:\\n\", confusion_matrix(y_test, y_iso))\n",
        "\n",
        "joblib.dump(iso, \"isolationforest_ids_model.pkl\")\n",
        "print(\"Isolation Forest model saved.\")\n"
      ]
    },
    {
      "cell_type": "markdown",
      "metadata": {
        "id": "zk20-kSMU_jW"
      },
      "source": [
        "training on full data-<br>\n",
        "increased trees<br>\n",
        "scaling<br>\n",
        "label mapping"
      ]
    },
    {
      "cell_type": "code",
      "execution_count": null,
      "metadata": {
        "colab": {
          "base_uri": "https://localhost:8080/"
        },
        "id": "wAOAc7TKMKqb",
        "outputId": "416809e6-7703-469e-ad36-4244bf635034"
      },
      "outputs": [
        {
          "name": "stdout",
          "output_type": "stream",
          "text": [
            "✅ Hybrid IDS Accuracy: 97.94%\n",
            "✅ Hybrid IDS Balanced Accuracy: 95.45%\n",
            "✅ Hybrid IDS F1-Score: 98.68%\n",
            "\n",
            "Classification Report:\n",
            "               precision    recall  f1-score   support\n",
            "\n",
            "           0       1.00      0.91      0.95     15791\n",
            "           1       0.97      1.00      0.99     53955\n",
            "\n",
            "    accuracy                           0.98     69746\n",
            "   macro avg       0.99      0.95      0.97     69746\n",
            "weighted avg       0.98      0.98      0.98     69746\n",
            "\n",
            "Confusion Matrix:\n",
            " [[14353  1438]\n",
            " [    0 53955]]\n",
            "✅ Hybrid IDS pipeline complete. Models & predictions saved.\n"
          ]
        }
      ],
      "source": [
        "# Hybrid IDS: Supervised + Unsupervised\n",
        "\n",
        "from sklearn.ensemble import IsolationForest\n",
        "from sklearn.metrics import classification_report, confusion_matrix, accuracy_score, f1_score, balanced_accuracy_score\n",
        "import numpy as np\n",
        "import joblib\n",
        "\n",
        "# Load previously trained RandomForest\n",
        "rf = joblib.load(\"randomforest_ids_model_balanced.pkl\")\n",
        "\n",
        "#  Train Isolation Forest for anomaly detection\n",
        "iso = IsolationForest(\n",
        "    n_estimators=200,\n",
        "    max_samples='auto',\n",
        "    contamination=0.2,   # estimated fraction of anomalies\n",
        "    random_state=42,\n",
        "    n_jobs=-1\n",
        ")\n",
        "\n",
        "# Train on features of \"normal\" class only (label 0)\n",
        "X_train_normal = X_train_scaled[y_train == 0]\n",
        "iso.fit(X_train_normal)\n",
        "\n",
        "#Make predictions\n",
        "# Supervised predictions\n",
        "y_pred_supervised = rf.predict(X_test_scaled)\n",
        "\n",
        "# Unsupervised anomaly predictions (-1 = anomaly, 1 = normal)\n",
        "y_pred_unsupervised = iso.predict(X_test_scaled)\n",
        "y_pred_unsupervised = np.where(y_pred_unsupervised == -1, 1, 0)  # treat anomalies as \"attack\"\n",
        "\n",
        "#: Combine predictions for Hybrid IDS\n",
        "# If either model predicts attack, label as attack\n",
        "y_pred_hybrid = np.maximum(y_pred_supervised, y_pred_unsupervised)\n",
        "\n",
        "# : Evaluate Hybrid IDS\n",
        "accuracy = accuracy_score(y_test, y_pred_hybrid) * 100\n",
        "balanced_acc = balanced_accuracy_score(y_test, y_pred_hybrid) * 100\n",
        "f1 = f1_score(y_test, y_pred_hybrid) * 100\n",
        "\n",
        "print(f\" Hybrid IDS Accuracy: {accuracy:.2f}%\")\n",
        "print(f\" Hybrid IDS Balanced Accuracy: {balanced_acc:.2f}%\")\n",
        "print(f\" Hybrid IDS F1-Score: {f1:.2f}%\\n\")\n",
        "\n",
        "print(\"Classification Report:\\n\", classification_report(y_test, y_pred_hybrid))\n",
        "print(\"Confusion Matrix:\\n\", confusion_matrix(y_test, y_pred_hybrid))\n",
        "\n",
        "# : Save Hybrid predictions & model objects\n",
        "#\n",
        "joblib.dump(iso, \"isolationforest_ids_model.pkl\")\n",
        "np.save(\"y_pred_hybrid.npy\", y_pred_hybrid)\n",
        "print(\" Hybrid IDS pipeline complete. Models & predictions saved.\")\n"
      ]
    },
    {
      "cell_type": "markdown",
      "metadata": {
        "id": "tTSZgAacXWt6"
      },
      "source": [
        "Prediction:\n",
        "\n",
        "1 → normal, -1 → anomaly.\n",
        "\n",
        "Converted to 0=Normal, 1=Attack."
      ]
    },
    {
      "cell_type": "code",
      "execution_count": null,
      "metadata": {
        "colab": {
          "base_uri": "https://localhost:8080/"
        },
        "id": "1-kSwJeJNFHo",
        "outputId": "e5e2650c-9dff-4e17-9558-0c8d80587ddc"
      },
      "outputs": [
        {
          "name": "stdout",
          "output_type": "stream",
          "text": [
            "✅ Scaler saved\n",
            "✅ Hybrid IDS Accuracy: 98.15%\n",
            "✅ Hybrid IDS Balanced Accuracy: 95.92%\n",
            "✅ Hybrid IDS F1-Score: 98.82%\n",
            "\n",
            "Classification Report:\n",
            "               precision    recall  f1-score   support\n",
            "\n",
            "           0       1.00      0.92      0.96     15791\n",
            "           1       0.98      1.00      0.99     53955\n",
            "\n",
            "    accuracy                           0.98     69746\n",
            "   macro avg       0.99      0.96      0.97     69746\n",
            "weighted avg       0.98      0.98      0.98     69746\n",
            "\n",
            "Confusion Matrix:\n",
            " [[14502  1289]\n",
            " [    0 53955]]\n",
            "✅ All Hybrid IDS models saved\n"
          ]
        }
      ],
      "source": [
        "\n",
        "# Improved Hybrid IDS Training\n",
        "\n",
        "\n",
        "import numpy as np\n",
        "import pandas as pd\n",
        "from sklearn.ensemble import RandomForestClassifier, IsolationForest, VotingClassifier\n",
        "from sklearn.metrics import classification_report, confusion_matrix, accuracy_score, f1_score, balanced_accuracy_score\n",
        "from sklearn.preprocessing import StandardScaler\n",
        "import lightgbm as lgb\n",
        "import joblib\n",
        "\n",
        "\n",
        "# Scale features\n",
        "\n",
        "scaler = StandardScaler()\n",
        "X_train_scaled = scaler.fit_transform(X_train)\n",
        "X_test_scaled = scaler.transform(X_test)\n",
        "joblib.dump(scaler, \"scaler.pkl\")\n",
        "print(\"✅ Scaler saved\")\n",
        "\n",
        "\n",
        "# 2 Train Supervised Models\n",
        "\n",
        "# RandomForest\n",
        "rf = RandomForestClassifier(\n",
        "    n_estimators=200,\n",
        "    max_depth=20,\n",
        "    random_state=42,\n",
        "    n_jobs=-1,\n",
        "    class_weight='balanced'\n",
        ")\n",
        "rf.fit(X_train_scaled, y_train)\n",
        "y_rf_pred = rf.predict_proba(X_test_scaled)[:, 1]  # probabilities\n",
        "\n",
        "# LightGBM\n",
        "lgb_train = lgb.Dataset(X_train_scaled, label=y_train)\n",
        "lgb_test = lgb.Dataset(X_test_scaled, label=y_test, reference=lgb_train)\n",
        "\n",
        "params = {\n",
        "    'objective': 'binary',\n",
        "    'metric': 'binary_logloss',\n",
        "    'boosting_type': 'gbdt',\n",
        "    'num_leaves': 31,\n",
        "    'learning_rate': 0.05,\n",
        "    'feature_fraction': 0.8,\n",
        "    'bagging_fraction': 0.8,\n",
        "    'bagging_freq': 5,\n",
        "    'verbose': -1,\n",
        "    'random_state': 42\n",
        "}\n",
        "\n",
        "lgbm_model = lgb.train(\n",
        "    params,\n",
        "    lgb_train,\n",
        "    num_boost_round=300,\n",
        "    valid_sets=[lgb_train, lgb_test],\n",
        "    valid_names=['train','test'],\n",
        "    callbacks=[lgb.early_stopping(stopping_rounds=20, verbose=False)]\n",
        ")\n",
        "\n",
        "y_lgb_pred = lgbm_model.predict(X_test_scaled, num_iteration=lgbm_model.best_iteration)\n",
        "\n",
        "\n",
        "# Train Unsupervised Model (Isolation Forest)\n",
        "iso_forest = IsolationForest(\n",
        "    n_estimators=300,\n",
        "    max_samples='auto',\n",
        "    contamination=0.25,  # expected anomaly fraction\n",
        "    random_state=42,\n",
        "    n_jobs=-1\n",
        ")\n",
        "iso_forest.fit(X_train_scaled)\n",
        "y_iso_scores = iso_forest.decision_function(X_test_scaled)\n",
        "y_iso_pred = iso_forest.predict(X_test_scaled)\n",
        "y_iso_pred = np.where(y_iso_pred == -1, 1, 0)  # convert anomalies to attack\n",
        "\n",
        "#  Combine into Hybrid Features\n",
        "# Use supervised predictions + anomaly prediction as features\n",
        "X_hybrid_test = np.column_stack([y_rf_pred, y_lgb_pred, y_iso_pred])\n",
        "X_hybrid_train = np.column_stack([\n",
        "    rf.predict_proba(X_train_scaled)[:, 1],\n",
        "    lgbm_model.predict(X_train_scaled, num_iteration=lgbm_model.best_iteration),\n",
        "    iso_forest.predict(X_train_scaled)\n",
        "])\n",
        "X_hybrid_train[:, 2] = np.where(X_hybrid_train[:, 2] == -1, 1, 0)  # convert train anomaly to 0/1\n",
        "\n",
        "#  Meta-classifier (Logistic Regression)\n",
        "from sklearn.linear_model import LogisticRegression\n",
        "\n",
        "meta_clf = LogisticRegression(class_weight='balanced', random_state=42, max_iter=500)\n",
        "meta_clf.fit(X_hybrid_train, y_train)\n",
        "y_hybrid_pred = meta_clf.predict(X_hybrid_test)\n",
        "\n",
        "\n",
        "# Evaluation\n",
        "accuracy = accuracy_score(y_test, y_hybrid_pred) * 100\n",
        "balanced_acc = balanced_accuracy_score(y_test, y_hybrid_pred) * 100\n",
        "f1 = f1_score(y_test, y_hybrid_pred) * 100\n",
        "\n",
        "print(f\" Hybrid IDS Accuracy: {accuracy:.2f}%\")\n",
        "print(f\" Hybrid IDS Balanced Accuracy: {balanced_acc:.2f}%\")\n",
        "print(f\" Hybrid IDS F1-Score: {f1:.2f}%\\n\")\n",
        "\n",
        "print(\"Classification Report:\\n\", classification_report(y_test, y_hybrid_pred))\n",
        "print(\"Confusion Matrix:\\n\", confusion_matrix(y_test, y_hybrid_pred))\n",
        "\n",
        "#\n",
        "#  Save models\n",
        "joblib.dump(rf, \"rf_supervised.pkl\")\n",
        "lgbm_model.save_model(\"lgbm_supervised.txt\")\n",
        "joblib.dump(iso_forest, \"iso_forest_unsupervised.pkl\")\n",
        "joblib.dump(meta_clf, \"hybrid_meta.pkl\")\n",
        "print(\" All Hybrid IDS models saved\")\n"
      ]
    },
    {
      "cell_type": "markdown",
      "metadata": {
        "id": "E77Z_qXzb-FD"
      },
      "source": [
        "Feature Scaling\n"
      ]
    },
    {
      "cell_type": "markdown",
      "metadata": {
        "id": "t4TrDwk7Xlch"
      },
      "source": []
    }
  ],
  "metadata": {
    "colab": {
      "provenance": []
    },
    "kernelspec": {
      "display_name": "Python 3",
      "name": "python3"
    },
    "language_info": {
      "name": "python"
    }
  },
  "nbformat": 4,
  "nbformat_minor": 0
}
